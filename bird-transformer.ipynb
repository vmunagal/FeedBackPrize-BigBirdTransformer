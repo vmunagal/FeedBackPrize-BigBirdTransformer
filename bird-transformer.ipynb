{
 "cells": [
  {
   "cell_type": "code",
   "execution_count": 1,
   "id": "1a70123a",
   "metadata": {
    "_cell_guid": "b1076dfc-b9ad-4769-8c92-a6c4dae69d19",
    "_uuid": "8f2839f25d086af736a60e9eeb907d3b93b6e0e5",
    "execution": {
     "iopub.execute_input": "2022-09-25T14:17:15.181688Z",
     "iopub.status.busy": "2022-09-25T14:17:15.180828Z",
     "iopub.status.idle": "2022-09-25T14:17:23.512416Z",
     "shell.execute_reply": "2022-09-25T14:17:23.511272Z"
    },
    "papermill": {
     "duration": 8.34256,
     "end_time": "2022-09-25T14:17:23.515322",
     "exception": false,
     "start_time": "2022-09-25T14:17:15.172762",
     "status": "completed"
    },
    "tags": []
   },
   "outputs": [],
   "source": [
    "from tqdm import tqdm\n",
    "import warnings \n",
    "import numpy as np\n",
    "import pandas as pd \n",
    "from torch.optim import AdamW\n",
    "import torch.nn as nn\n",
    "import torch \n",
    "import re\n",
    "import gc\n",
    "import codecs\n",
    "from transformers import AutoModelForTokenClassification , AutoConfig ,AutoTokenizer, set_seed,Trainer, TrainingArguments\n",
    "from torch.utils.data import Dataset, DataLoader\n",
    "from itertools import chain\n",
    "from text_unidecode import unidecode\n",
    "from typing import Any, Optional, Tuple\n",
    "from datasets import Dataset\n",
    "from sklearn.model_selection import train_test_split\n",
    "import pandas as pd\n",
    "import os \n",
    "os.environ[\"TOKENIZERS_PARALLELISM\"] = \"false\"\n",
    "warnings.filterwarnings('ignore')\n",
    "os.environ[\"WANDB_DISABLED\"] = \"true\"\n",
    "\n"
   ]
  },
  {
   "cell_type": "code",
   "execution_count": 2,
   "id": "06f61858",
   "metadata": {
    "execution": {
     "iopub.execute_input": "2022-09-25T14:17:23.529884Z",
     "iopub.status.busy": "2022-09-25T14:17:23.527577Z",
     "iopub.status.idle": "2022-09-25T14:17:23.803561Z",
     "shell.execute_reply": "2022-09-25T14:17:23.802620Z"
    },
    "papermill": {
     "duration": 0.284993,
     "end_time": "2022-09-25T14:17:23.805927",
     "exception": false,
     "start_time": "2022-09-25T14:17:23.520934",
     "status": "completed"
    },
    "tags": []
   },
   "outputs": [],
   "source": [
    "train_data=pd.read_csv('../input/feedback-prize-effectiveness/train.csv')"
   ]
  },
  {
   "cell_type": "code",
   "execution_count": 3,
   "id": "1a5acc31",
   "metadata": {
    "execution": {
     "iopub.execute_input": "2022-09-25T14:17:23.817184Z",
     "iopub.status.busy": "2022-09-25T14:17:23.816845Z",
     "iopub.status.idle": "2022-09-25T14:17:23.821973Z",
     "shell.execute_reply": "2022-09-25T14:17:23.820910Z"
    },
    "papermill": {
     "duration": 0.013231,
     "end_time": "2022-09-25T14:17:23.824399",
     "exception": false,
     "start_time": "2022-09-25T14:17:23.811168",
     "status": "completed"
    },
    "tags": []
   },
   "outputs": [],
   "source": [
    "class Config:\n",
    "    max_length = 1024\n",
    "    model='google/bigbird-roberta-base'\n",
    "    learning_rate=9e-5\n",
    "    train_batch_size = 4\n",
    "    test_batch_size = 2 \n",
    "    num_gradient_accumlation = 2 \n",
    "    num_of_classlabels=3\n",
    "    weight_deccay=0.1\n",
    "    epochs=10\n",
    "    \n",
    "    \n",
    "    "
   ]
  },
  {
   "cell_type": "code",
   "execution_count": 4,
   "id": "7ddbe23b",
   "metadata": {
    "execution": {
     "iopub.execute_input": "2022-09-25T14:17:23.835213Z",
     "iopub.status.busy": "2022-09-25T14:17:23.834911Z",
     "iopub.status.idle": "2022-09-25T14:17:23.846379Z",
     "shell.execute_reply": "2022-09-25T14:17:23.845427Z"
    },
    "papermill": {
     "duration": 0.019243,
     "end_time": "2022-09-25T14:17:23.848450",
     "exception": false,
     "start_time": "2022-09-25T14:17:23.829207",
     "status": "completed"
    },
    "tags": []
   },
   "outputs": [],
   "source": [
    "train_data['disclouse_start']=-1\n",
    "train_data['disclouse_end']=-1"
   ]
  },
  {
   "cell_type": "code",
   "execution_count": 5,
   "id": "e6576d9d",
   "metadata": {
    "execution": {
     "iopub.execute_input": "2022-09-25T14:17:23.860370Z",
     "iopub.status.busy": "2022-09-25T14:17:23.858913Z",
     "iopub.status.idle": "2022-09-25T14:17:23.943691Z",
     "shell.execute_reply": "2022-09-25T14:17:23.942763Z"
    },
    "papermill": {
     "duration": 0.092958,
     "end_time": "2022-09-25T14:17:23.946210",
     "exception": false,
     "start_time": "2022-09-25T14:17:23.853252",
     "status": "completed"
    },
    "tags": []
   },
   "outputs": [],
   "source": [
    "data=train_data.groupby(['essay_id'])['discourse_text'].apply(list)"
   ]
  },
  {
   "cell_type": "code",
   "execution_count": 6,
   "id": "f5055ff8",
   "metadata": {
    "execution": {
     "iopub.execute_input": "2022-09-25T14:17:23.957799Z",
     "iopub.status.busy": "2022-09-25T14:17:23.956924Z",
     "iopub.status.idle": "2022-09-25T14:17:29.594051Z",
     "shell.execute_reply": "2022-09-25T14:17:29.593018Z"
    },
    "papermill": {
     "duration": 5.645439,
     "end_time": "2022-09-25T14:17:29.596573",
     "exception": false,
     "start_time": "2022-09-25T14:17:23.951134",
     "status": "completed"
    },
    "tags": []
   },
   "outputs": [
    {
     "data": {
      "application/vnd.jupyter.widget-view+json": {
       "model_id": "91fef7f2b45c403ebbf4880381a23071",
       "version_major": 2,
       "version_minor": 0
      },
      "text/plain": [
       "Downloading:   0%|          | 0.00/0.99k [00:00<?, ?B/s]"
      ]
     },
     "metadata": {},
     "output_type": "display_data"
    },
    {
     "data": {
      "application/vnd.jupyter.widget-view+json": {
       "model_id": "a9a05b7efd8c46118986c7f3f6ea5c4d",
       "version_major": 2,
       "version_minor": 0
      },
      "text/plain": [
       "Downloading:   0%|          | 0.00/760 [00:00<?, ?B/s]"
      ]
     },
     "metadata": {},
     "output_type": "display_data"
    },
    {
     "data": {
      "application/vnd.jupyter.widget-view+json": {
       "model_id": "11bc1fcd31454584b632b2ff5db0c229",
       "version_major": 2,
       "version_minor": 0
      },
      "text/plain": [
       "Downloading:   0%|          | 0.00/826k [00:00<?, ?B/s]"
      ]
     },
     "metadata": {},
     "output_type": "display_data"
    },
    {
     "data": {
      "application/vnd.jupyter.widget-view+json": {
       "model_id": "61099b5cbb1447199fbf0f3fd6aec1fb",
       "version_major": 2,
       "version_minor": 0
      },
      "text/plain": [
       "Downloading:   0%|          | 0.00/775 [00:00<?, ?B/s]"
      ]
     },
     "metadata": {},
     "output_type": "display_data"
    }
   ],
   "source": [
    "tokenizer = AutoTokenizer.from_pretrained(Config.model)"
   ]
  },
  {
   "cell_type": "code",
   "execution_count": 7,
   "id": "066c9d74",
   "metadata": {
    "execution": {
     "iopub.execute_input": "2022-09-25T14:17:29.609542Z",
     "iopub.status.busy": "2022-09-25T14:17:29.608553Z",
     "iopub.status.idle": "2022-09-25T14:17:29.619223Z",
     "shell.execute_reply": "2022-09-25T14:17:29.618209Z"
    },
    "papermill": {
     "duration": 0.019217,
     "end_time": "2022-09-25T14:17:29.621495",
     "exception": false,
     "start_time": "2022-09-25T14:17:29.602278",
     "status": "completed"
    },
    "tags": []
   },
   "outputs": [
    {
     "data": {
      "text/plain": [
       "array(['Lead', 'Position', 'Claim', 'Evidence', 'Counterclaim',\n",
       "       'Rebuttal', 'Concluding Statement'], dtype=object)"
      ]
     },
     "execution_count": 7,
     "metadata": {},
     "output_type": "execute_result"
    }
   ],
   "source": [
    "train_data['discourse_type'].unique()"
   ]
  },
  {
   "cell_type": "code",
   "execution_count": 8,
   "id": "3b2f6092",
   "metadata": {
    "execution": {
     "iopub.execute_input": "2022-09-25T14:17:29.633176Z",
     "iopub.status.busy": "2022-09-25T14:17:29.632879Z",
     "iopub.status.idle": "2022-09-25T14:18:36.788680Z",
     "shell.execute_reply": "2022-09-25T14:18:36.787701Z"
    },
    "papermill": {
     "duration": 67.16444,
     "end_time": "2022-09-25T14:18:36.791141",
     "exception": false,
     "start_time": "2022-09-25T14:17:29.626701",
     "status": "completed"
    },
    "tags": []
   },
   "outputs": [],
   "source": [
    "# Below code are copied from kaggle \n",
    "def replace_encoding_with_utf8(error: UnicodeError) -> Tuple[bytes, int]:\n",
    "    return error.object[error.start : error.end].encode(\"utf-8\"), error.end\n",
    "\n",
    "\n",
    "def replace_decoding_with_cp1252(error: UnicodeError) -> Tuple[str, int]:\n",
    "    return error.object[error.start : error.end].decode(\"cp1252\"), error.end\n",
    "\n",
    "\n",
    "# Register the encoding and decoding error handlers for `utf-8` and `cp1252`.\n",
    "codecs.register_error(\"replace_encoding_with_utf8\", replace_encoding_with_utf8)\n",
    "codecs.register_error(\"replace_decoding_with_cp1252\", replace_decoding_with_cp1252)\n",
    "\n",
    "\n",
    "def resolve_encodings_and_normalize(text: str) -> str:\n",
    "    \"\"\"Resolve the encoding problems and normalize the abnormal characters.\"\"\"\n",
    "    text = (\n",
    "        text.encode(\"raw_unicode_escape\")\n",
    "        .decode(\"utf-8\", errors=\"replace_decoding_with_cp1252\")\n",
    "        .encode(\"cp1252\", errors=\"replace_encoding_with_utf8\")\n",
    "        .decode(\"utf-8\", errors=\"replace_decoding_with_cp1252\")\n",
    "    )\n",
    "    text = unidecode(text)\n",
    "    return text\n",
    "\n",
    "previous_id = ''\n",
    "for idx, input_data in  enumerate(train_data[['essay_id','discourse_text']].values):\n",
    "    # check for id \n",
    "    if previous_id != input_data[0]:\n",
    "        with open(f'../input/feedback-prize-effectiveness/train/{input_data[0]}.txt','r') as f:\n",
    "            data=f.read()\n",
    "        main_text=resolve_encodings_and_normalize(data)    \n",
    "        previous_id = input_data[0]\n",
    " \n",
    "    matches = list(re.finditer(re.escape(input_data[1].strip()), main_text))\n",
    "    \n",
    "    \n",
    "    if(len(matches)==0):\n",
    "        train_data.loc[idx,'disclouse_start']=-1\n",
    "        train_data.loc[idx,'disclouse_end']=-1\n",
    "    else:\n",
    "        # if the matches is greater than > 1 i gone pick  first match \n",
    "        match=matches[0]\n",
    "        train_data.loc[idx,'disclouse_start']=match.start()\n",
    "        train_data.loc[idx,'disclouse_end']=match.end()  "
   ]
  },
  {
   "cell_type": "code",
   "execution_count": 9,
   "id": "36f1aa7d",
   "metadata": {
    "execution": {
     "iopub.execute_input": "2022-09-25T14:18:36.803518Z",
     "iopub.status.busy": "2022-09-25T14:18:36.803222Z",
     "iopub.status.idle": "2022-09-25T14:18:36.812639Z",
     "shell.execute_reply": "2022-09-25T14:18:36.811781Z"
    },
    "papermill": {
     "duration": 0.017826,
     "end_time": "2022-09-25T14:18:36.814691",
     "exception": false,
     "start_time": "2022-09-25T14:18:36.796865",
     "status": "completed"
    },
    "tags": []
   },
   "outputs": [],
   "source": [
    "# Lets create a map for disclouser_type \n",
    "\n",
    "disclouser_types=['Lead',\n",
    "                  'Position', \n",
    "                  'Claim', \n",
    "                  'Evidence', \n",
    "                  'Counterclaim',\n",
    "                   'Rebuttal',\n",
    "                   'Concluding Statement']\n",
    "# Create token_ids for above disclouser types \n",
    "start_tokens = { x: f\"[CLS_{x.upper()}]\" for x in disclouser_types}\n",
    "end_tokens =   { x: f\"[SEP_{x.upper()}]\"  for x in disclouser_types}"
   ]
  },
  {
   "cell_type": "code",
   "execution_count": 10,
   "id": "bc678b9a",
   "metadata": {
    "execution": {
     "iopub.execute_input": "2022-09-25T14:18:36.827431Z",
     "iopub.status.busy": "2022-09-25T14:18:36.827168Z",
     "iopub.status.idle": "2022-09-25T14:18:40.387708Z",
     "shell.execute_reply": "2022-09-25T14:18:40.386760Z"
    },
    "papermill": {
     "duration": 3.569934,
     "end_time": "2022-09-25T14:18:40.389911",
     "exception": false,
     "start_time": "2022-09-25T14:18:36.819977",
     "status": "completed"
    },
    "tags": []
   },
   "outputs": [
    {
     "data": {
      "text/plain": [
       "14"
      ]
     },
     "execution_count": 10,
     "metadata": {},
     "output_type": "execute_result"
    }
   ],
   "source": [
    "# lets add new tokens to the tokenizer \n",
    "tokenizer=AutoTokenizer.from_pretrained(Config.model)\n",
    "tokenizer.add_special_tokens({\"additional_special_tokens\": list(start_tokens.values())+list(end_tokens.values())})"
   ]
  },
  {
   "cell_type": "code",
   "execution_count": 11,
   "id": "0cd924c1",
   "metadata": {
    "execution": {
     "iopub.execute_input": "2022-09-25T14:18:40.403131Z",
     "iopub.status.busy": "2022-09-25T14:18:40.401714Z",
     "iopub.status.idle": "2022-09-25T14:18:40.411138Z",
     "shell.execute_reply": "2022-09-25T14:18:40.410143Z"
    },
    "papermill": {
     "duration": 0.017649,
     "end_time": "2022-09-25T14:18:40.413078",
     "exception": false,
     "start_time": "2022-09-25T14:18:40.395429",
     "status": "completed"
    },
    "tags": []
   },
   "outputs": [
    {
     "data": {
      "text/plain": [
       "array(['Adequate', 'Ineffective', 'Effective'], dtype=object)"
      ]
     },
     "execution_count": 11,
     "metadata": {},
     "output_type": "execute_result"
    }
   ],
   "source": [
    "train_data['discourse_effectiveness'].unique()"
   ]
  },
  {
   "cell_type": "code",
   "execution_count": 12,
   "id": "cfe0327f",
   "metadata": {
    "execution": {
     "iopub.execute_input": "2022-09-25T14:18:40.424912Z",
     "iopub.status.busy": "2022-09-25T14:18:40.424637Z",
     "iopub.status.idle": "2022-09-25T14:18:40.431534Z",
     "shell.execute_reply": "2022-09-25T14:18:40.430731Z"
    },
    "papermill": {
     "duration": 0.015003,
     "end_time": "2022-09-25T14:18:40.433474",
     "exception": false,
     "start_time": "2022-09-25T14:18:40.418471",
     "status": "completed"
    },
    "tags": []
   },
   "outputs": [],
   "source": [
    "# Lets convert class labels to ids & ids to class lable reason behing it was during inferene time instead of 0,1,2 we gone get actual class value \n",
    "lable2id={\n",
    "    \"Adequate\":0,\n",
    "    \"Ineffective\":1,\n",
    "    \"Effective\":2\n",
    "    \n",
    "}\n",
    "id2label = {V:K for K ,V in lable2id.items()}\n",
    "\n",
    "# And Map actual token_id with label \n",
    "\n",
    "label_token_map ={\n",
    "    K:tokenizer.encode(V)[1] for K ,V in start_tokens.items()\n",
    "}"
   ]
  },
  {
   "cell_type": "code",
   "execution_count": 13,
   "id": "c65a60ec",
   "metadata": {
    "execution": {
     "iopub.execute_input": "2022-09-25T14:18:40.446067Z",
     "iopub.status.busy": "2022-09-25T14:18:40.445316Z",
     "iopub.status.idle": "2022-09-25T14:19:20.225039Z",
     "shell.execute_reply": "2022-09-25T14:19:20.224085Z"
    },
    "papermill": {
     "duration": 39.788534,
     "end_time": "2022-09-25T14:19:20.227445",
     "exception": false,
     "start_time": "2022-09-25T14:18:40.438911",
     "status": "completed"
    },
    "tags": []
   },
   "outputs": [],
   "source": [
    "# Lets add CLS_disclouser_type & END_Disclouser_type to the complete essay string\n",
    "previous_id = ''\n",
    "data_chunks =[]\n",
    "token_ids_chunks = []\n",
    "data_chunks_dict ={}\n",
    "for essay_id , start , end , dis_type in  zip(train_data['essay_id'],train_data['disclouse_start'],train_data['disclouse_end'],train_data['discourse_type']):\n",
    "    # check for id \n",
    "    \n",
    "    if previous_id != essay_id:\n",
    "        with open(f'../input/feedback-prize-effectiveness/train/{essay_id}.txt','r') as f:\n",
    "            data=f.read()\n",
    "        main_text=resolve_encodings_and_normalize(data)  \n",
    "        \n",
    "    if int(start) == -1 & int(end) == -1:\n",
    "        continue \n",
    " \n",
    "    if essay_id not in data_chunks_dict:\n",
    "        data_chunks_dict[essay_id]=[]\n",
    "        data_chunks_dict[essay_id].append(start_tokens[dis_type])\n",
    "        data_chunks_dict[essay_id].append(data[start:end])\n",
    "        data_chunks_dict[essay_id].append(end_tokens[dis_type])\n",
    "    else:\n",
    "        data_chunks_dict[essay_id].append(start_tokens[dis_type])\n",
    "        data_chunks_dict[essay_id].append(data[start:end])\n",
    "        data_chunks_dict[essay_id].append(end_tokens[dis_type])\n",
    "       \n",
    "    "
   ]
  },
  {
   "cell_type": "code",
   "execution_count": 14,
   "id": "b081c96c",
   "metadata": {
    "execution": {
     "iopub.execute_input": "2022-09-25T14:19:20.240267Z",
     "iopub.status.busy": "2022-09-25T14:19:20.239965Z",
     "iopub.status.idle": "2022-09-25T14:19:20.326511Z",
     "shell.execute_reply": "2022-09-25T14:19:20.325464Z"
    },
    "papermill": {
     "duration": 0.095905,
     "end_time": "2022-09-25T14:19:20.329488",
     "exception": false,
     "start_time": "2022-09-25T14:19:20.233583",
     "status": "completed"
    },
    "tags": []
   },
   "outputs": [],
   "source": [
    "train_data.loc[:,'labelids']=train_data['discourse_effectiveness'].map(lable2id)\n",
    "label_output = train_data.groupby(['essay_id'])['labelids'].apply(list)"
   ]
  },
  {
   "cell_type": "code",
   "execution_count": 15,
   "id": "aeab688a",
   "metadata": {
    "execution": {
     "iopub.execute_input": "2022-09-25T14:19:20.344083Z",
     "iopub.status.busy": "2022-09-25T14:19:20.343731Z",
     "iopub.status.idle": "2022-09-25T14:19:27.417763Z",
     "shell.execute_reply": "2022-09-25T14:19:27.416790Z"
    },
    "papermill": {
     "duration": 7.083897,
     "end_time": "2022-09-25T14:19:27.420101",
     "exception": false,
     "start_time": "2022-09-25T14:19:20.336204",
     "status": "completed"
    },
    "tags": []
   },
   "outputs": [],
   "source": [
    "# create a dataset using labels & text data \n",
    "tokenized_data=[]\n",
    "labels=[]\n",
    "for K ,V in data_chunks_dict.items():\n",
    "    tokenized = tokenizer(''.join(V),max_length=Config.max_length,padding='max_length',truncation=True)\n",
    "#     tokenized_data.append(tokenized)\n",
    "    # lets iterate over tokens \n",
    "    label=[] \n",
    "    idx=0\n",
    "    for _id in tokenized['input_ids']:\n",
    "        if _id in label_token_map.values():\n",
    "            label.append(label_output[K][idx])\n",
    "            idx+=1\n",
    "        else:\n",
    "            # Cross entropy will be ignored when -100 \n",
    "            label.append(-100)\n",
    "            \n",
    "    tokenized['label']=label\n",
    "    tokenized_data.append(tokenized)"
   ]
  },
  {
   "cell_type": "code",
   "execution_count": 16,
   "id": "2094f964",
   "metadata": {
    "execution": {
     "iopub.execute_input": "2022-09-25T14:19:27.432518Z",
     "iopub.status.busy": "2022-09-25T14:19:27.432226Z",
     "iopub.status.idle": "2022-09-25T14:19:27.439814Z",
     "shell.execute_reply": "2022-09-25T14:19:27.438845Z"
    },
    "papermill": {
     "duration": 0.016047,
     "end_time": "2022-09-25T14:19:27.441874",
     "exception": false,
     "start_time": "2022-09-25T14:19:27.425827",
     "status": "completed"
    },
    "tags": []
   },
   "outputs": [
    {
     "data": {
      "text/plain": [
       "[0, 0, 0, 0, 0, 1, 0, 0, 0]"
      ]
     },
     "execution_count": 16,
     "metadata": {},
     "output_type": "execute_result"
    }
   ],
   "source": [
    "[x  for x in tokenized_data[0]['label'] if x in [0,1,2]]"
   ]
  },
  {
   "cell_type": "code",
   "execution_count": 17,
   "id": "438e7fc3",
   "metadata": {
    "execution": {
     "iopub.execute_input": "2022-09-25T14:19:27.454208Z",
     "iopub.status.busy": "2022-09-25T14:19:27.453535Z",
     "iopub.status.idle": "2022-09-25T14:19:27.461093Z",
     "shell.execute_reply": "2022-09-25T14:19:27.460056Z"
    },
    "papermill": {
     "duration": 0.015958,
     "end_time": "2022-09-25T14:19:27.463198",
     "exception": false,
     "start_time": "2022-09-25T14:19:27.447240",
     "status": "completed"
    },
    "tags": []
   },
   "outputs": [
    {
     "data": {
      "text/plain": [
       "[0, 0, 0, 0, 0, 1, 0, 0, 0]"
      ]
     },
     "execution_count": 17,
     "metadata": {},
     "output_type": "execute_result"
    }
   ],
   "source": [
    "# did the santy check to make sure the labels are correct \n",
    "label_output['007ACE74B050']"
   ]
  },
  {
   "cell_type": "code",
   "execution_count": 18,
   "id": "9bcb4bc2",
   "metadata": {
    "execution": {
     "iopub.execute_input": "2022-09-25T14:19:27.476725Z",
     "iopub.status.busy": "2022-09-25T14:19:27.475143Z",
     "iopub.status.idle": "2022-09-25T14:19:28.289337Z",
     "shell.execute_reply": "2022-09-25T14:19:28.288345Z"
    },
    "papermill": {
     "duration": 0.823254,
     "end_time": "2022-09-25T14:19:28.291966",
     "exception": false,
     "start_time": "2022-09-25T14:19:27.468712",
     "status": "completed"
    },
    "tags": []
   },
   "outputs": [],
   "source": [
    "# Lets convert list of dict input_ids ,attention_mask , labels to Dataset \n",
    "df = pd.DataFrame(tokenized_data)\n",
    "\n",
    "X_train , X_eval = train_test_split(df,test_size=0.2,random_state=42,shuffle=True)\n",
    "\n",
    "# Convert to dataset \n",
    "train_dataset = Dataset.from_pandas(X_train) # train data set \n",
    "eval_dataset = Dataset.from_pandas(X_eval)"
   ]
  },
  {
   "cell_type": "code",
   "execution_count": 19,
   "id": "67c86296",
   "metadata": {
    "execution": {
     "iopub.execute_input": "2022-09-25T14:19:28.305182Z",
     "iopub.status.busy": "2022-09-25T14:19:28.304367Z",
     "iopub.status.idle": "2022-09-25T14:19:29.365200Z",
     "shell.execute_reply": "2022-09-25T14:19:29.363807Z"
    },
    "papermill": {
     "duration": 1.070954,
     "end_time": "2022-09-25T14:19:29.368766",
     "exception": false,
     "start_time": "2022-09-25T14:19:28.297812",
     "status": "completed"
    },
    "tags": []
   },
   "outputs": [],
   "source": [
    "! mkdir output_model"
   ]
  },
  {
   "cell_type": "code",
   "execution_count": 20,
   "id": "0bfd8904",
   "metadata": {
    "execution": {
     "iopub.execute_input": "2022-09-25T14:19:29.387822Z",
     "iopub.status.busy": "2022-09-25T14:19:29.387443Z",
     "iopub.status.idle": "2022-09-25T14:19:29.481485Z",
     "shell.execute_reply": "2022-09-25T14:19:29.480340Z"
    },
    "papermill": {
     "duration": 0.106104,
     "end_time": "2022-09-25T14:19:29.483795",
     "exception": false,
     "start_time": "2022-09-25T14:19:29.377691",
     "status": "completed"
    },
    "tags": []
   },
   "outputs": [
    {
     "name": "stderr",
     "output_type": "stream",
     "text": [
      "Using the `WAND_DISABLED` environment variable is deprecated and will be removed in v5. Use the --report_to flag to control the integrations used for logging result (for instance --report_to none).\n"
     ]
    }
   ],
   "source": [
    "# Model trainarguments & trainer \n",
    "args = TrainingArguments(\n",
    "       output_dir ='/output',\n",
    "       do_train=False,\n",
    "       do_eval=True,\n",
    "       per_device_train_batch_size = Config.train_batch_size,\n",
    "       per_device_eval_batch_size=Config.test_batch_size,\n",
    "       gradient_accumulation_steps=Config.num_gradient_accumlation, # acuumulate  batches before the update \n",
    "       num_train_epochs=Config.epochs,\n",
    "       learning_rate = Config.learning_rate,\n",
    "       weight_decay =Config.weight_deccay, # its nothing but lambda parameter for regualrizer\n",
    "       metric_for_best_model= 'loss',\n",
    "       optim='adamw_torch', # use adam optinmizer \n",
    "       evaluation_strategy='epoch',\n",
    "       logging_strategy='steps',\n",
    "       logging_steps=50\n",
    ")"
   ]
  },
  {
   "cell_type": "code",
   "execution_count": 21,
   "id": "c943909c",
   "metadata": {
    "execution": {
     "iopub.execute_input": "2022-09-25T14:19:29.497618Z",
     "iopub.status.busy": "2022-09-25T14:19:29.497262Z",
     "iopub.status.idle": "2022-09-25T14:19:44.162019Z",
     "shell.execute_reply": "2022-09-25T14:19:44.160928Z"
    },
    "papermill": {
     "duration": 14.674146,
     "end_time": "2022-09-25T14:19:44.164126",
     "exception": false,
     "start_time": "2022-09-25T14:19:29.489980",
     "status": "completed"
    },
    "tags": []
   },
   "outputs": [
    {
     "data": {
      "application/vnd.jupyter.widget-view+json": {
       "model_id": "db1a55f5aada400084345a8cc60f81df",
       "version_major": 2,
       "version_minor": 0
      },
      "text/plain": [
       "Downloading:   0%|          | 0.00/489M [00:00<?, ?B/s]"
      ]
     },
     "metadata": {},
     "output_type": "display_data"
    },
    {
     "name": "stderr",
     "output_type": "stream",
     "text": [
      "Some weights of the model checkpoint at google/bigbird-roberta-base were not used when initializing BigBirdForTokenClassification: ['cls.predictions.decoder.weight', 'cls.predictions.transform.LayerNorm.bias', 'cls.predictions.transform.dense.bias', 'cls.seq_relationship.bias', 'cls.predictions.transform.dense.weight', 'cls.predictions.transform.LayerNorm.weight', 'cls.predictions.decoder.bias', 'cls.seq_relationship.weight', 'cls.predictions.bias']\n",
      "- This IS expected if you are initializing BigBirdForTokenClassification from the checkpoint of a model trained on another task or with another architecture (e.g. initializing a BertForSequenceClassification model from a BertForPreTraining model).\n",
      "- This IS NOT expected if you are initializing BigBirdForTokenClassification from the checkpoint of a model that you expect to be exactly identical (initializing a BertForSequenceClassification model from a BertForSequenceClassification model).\n",
      "Some weights of BigBirdForTokenClassification were not initialized from the model checkpoint at google/bigbird-roberta-base and are newly initialized: ['classifier.weight', 'classifier.bias']\n",
      "You should probably TRAIN this model on a down-stream task to be able to use it for predictions and inference.\n"
     ]
    },
    {
     "data": {
      "text/plain": [
       "Embedding(50372, 768)"
      ]
     },
     "execution_count": 21,
     "metadata": {},
     "output_type": "execute_result"
    }
   ],
   "source": [
    "# Build the Model \n",
    "model_config = AutoConfig.from_pretrained(\n",
    "            Config.model,\n",
    "        )\n",
    "model_config.update(\n",
    "        {\n",
    "            \"num_labels\": 3,\n",
    "            \"cls_tokens\": list(label_token_map.values()), \n",
    "            \"lable2id\": lable2id, # reason of usinf label2id  and opposite is during inference instead of value as o or 1 we can get actual valiue of the class\n",
    "            \"id2label\": id2label,\n",
    "            \"attention_type\":'original_full' # if the tokens count is less than 1024 use original it would be o(n**2) attention\n",
    "        }\n",
    ")\n",
    "    \n",
    "model = AutoModelForTokenClassification.from_pretrained(Config.model, config=model_config)\n",
    "    \n",
    "    # Because tokens were added, it is important to resize the embeddings\n",
    "model.resize_token_embeddings(len(tokenizer)) \n"
   ]
  },
  {
   "cell_type": "code",
   "execution_count": 22,
   "id": "a0a77ad1",
   "metadata": {
    "execution": {
     "iopub.execute_input": "2022-09-25T14:19:44.183242Z",
     "iopub.status.busy": "2022-09-25T14:19:44.182921Z",
     "iopub.status.idle": "2022-09-25T15:46:10.510306Z",
     "shell.execute_reply": "2022-09-25T15:46:10.509199Z"
    },
    "papermill": {
     "duration": 5186.341315,
     "end_time": "2022-09-25T15:46:10.512667",
     "exception": false,
     "start_time": "2022-09-25T14:19:44.171352",
     "status": "completed"
    },
    "tags": []
   },
   "outputs": [
    {
     "name": "stderr",
     "output_type": "stream",
     "text": [
      "The following columns in the training set don't have a corresponding argument in `BigBirdForTokenClassification.forward` and have been ignored: __index_level_0__. If __index_level_0__ are not expected by `BigBirdForTokenClassification.forward`,  you can safely ignore this message.\n",
      "***** Running training *****\n",
      "  Num examples = 3340\n",
      "  Num Epochs = 10\n",
      "  Instantaneous batch size per device = 4\n",
      "  Total train batch size (w. parallel, distributed & accumulation) = 8\n",
      "  Gradient Accumulation steps = 2\n",
      "  Total optimization steps = 4170\n"
     ]
    },
    {
     "data": {
      "text/html": [
       "\n",
       "    <div>\n",
       "      \n",
       "      <progress value='4170' max='4170' style='width:300px; height:20px; vertical-align: middle;'></progress>\n",
       "      [4170/4170 1:26:18, Epoch 9/10]\n",
       "    </div>\n",
       "    <table border=\"1\" class=\"dataframe\">\n",
       "  <thead>\n",
       " <tr style=\"text-align: left;\">\n",
       "      <th>Epoch</th>\n",
       "      <th>Training Loss</th>\n",
       "      <th>Validation Loss</th>\n",
       "    </tr>\n",
       "  </thead>\n",
       "  <tbody>\n",
       "    <tr>\n",
       "      <td>0</td>\n",
       "      <td>0.881600</td>\n",
       "      <td>0.846878</td>\n",
       "    </tr>\n",
       "    <tr>\n",
       "      <td>1</td>\n",
       "      <td>0.789700</td>\n",
       "      <td>0.845622</td>\n",
       "    </tr>\n",
       "    <tr>\n",
       "      <td>2</td>\n",
       "      <td>0.784600</td>\n",
       "      <td>0.858485</td>\n",
       "    </tr>\n",
       "    <tr>\n",
       "      <td>3</td>\n",
       "      <td>0.773600</td>\n",
       "      <td>0.834126</td>\n",
       "    </tr>\n",
       "    <tr>\n",
       "      <td>4</td>\n",
       "      <td>0.777500</td>\n",
       "      <td>0.810718</td>\n",
       "    </tr>\n",
       "    <tr>\n",
       "      <td>5</td>\n",
       "      <td>0.741900</td>\n",
       "      <td>0.805701</td>\n",
       "    </tr>\n",
       "    <tr>\n",
       "      <td>6</td>\n",
       "      <td>0.684400</td>\n",
       "      <td>0.784360</td>\n",
       "    </tr>\n",
       "    <tr>\n",
       "      <td>7</td>\n",
       "      <td>0.669500</td>\n",
       "      <td>0.775083</td>\n",
       "    </tr>\n",
       "    <tr>\n",
       "      <td>8</td>\n",
       "      <td>0.691600</td>\n",
       "      <td>0.790753</td>\n",
       "    </tr>\n",
       "    <tr>\n",
       "      <td>9</td>\n",
       "      <td>0.670500</td>\n",
       "      <td>0.779085</td>\n",
       "    </tr>\n",
       "  </tbody>\n",
       "</table><p>"
      ],
      "text/plain": [
       "<IPython.core.display.HTML object>"
      ]
     },
     "metadata": {},
     "output_type": "display_data"
    },
    {
     "name": "stderr",
     "output_type": "stream",
     "text": [
      "The following columns in the evaluation set don't have a corresponding argument in `BigBirdForTokenClassification.forward` and have been ignored: __index_level_0__. If __index_level_0__ are not expected by `BigBirdForTokenClassification.forward`,  you can safely ignore this message.\n",
      "***** Running Evaluation *****\n",
      "  Num examples = 835\n",
      "  Batch size = 2\n",
      "Saving model checkpoint to /output/checkpoint-500\n",
      "Configuration saved in /output/checkpoint-500/config.json\n",
      "Model weights saved in /output/checkpoint-500/pytorch_model.bin\n",
      "tokenizer config file saved in /output/checkpoint-500/tokenizer_config.json\n",
      "Special tokens file saved in /output/checkpoint-500/special_tokens_map.json\n",
      "The following columns in the evaluation set don't have a corresponding argument in `BigBirdForTokenClassification.forward` and have been ignored: __index_level_0__. If __index_level_0__ are not expected by `BigBirdForTokenClassification.forward`,  you can safely ignore this message.\n",
      "***** Running Evaluation *****\n",
      "  Num examples = 835\n",
      "  Batch size = 2\n",
      "Saving model checkpoint to /output/checkpoint-1000\n",
      "Configuration saved in /output/checkpoint-1000/config.json\n",
      "Model weights saved in /output/checkpoint-1000/pytorch_model.bin\n",
      "tokenizer config file saved in /output/checkpoint-1000/tokenizer_config.json\n",
      "Special tokens file saved in /output/checkpoint-1000/special_tokens_map.json\n",
      "The following columns in the evaluation set don't have a corresponding argument in `BigBirdForTokenClassification.forward` and have been ignored: __index_level_0__. If __index_level_0__ are not expected by `BigBirdForTokenClassification.forward`,  you can safely ignore this message.\n",
      "***** Running Evaluation *****\n",
      "  Num examples = 835\n",
      "  Batch size = 2\n",
      "Saving model checkpoint to /output/checkpoint-1500\n",
      "Configuration saved in /output/checkpoint-1500/config.json\n",
      "Model weights saved in /output/checkpoint-1500/pytorch_model.bin\n",
      "tokenizer config file saved in /output/checkpoint-1500/tokenizer_config.json\n",
      "Special tokens file saved in /output/checkpoint-1500/special_tokens_map.json\n",
      "The following columns in the evaluation set don't have a corresponding argument in `BigBirdForTokenClassification.forward` and have been ignored: __index_level_0__. If __index_level_0__ are not expected by `BigBirdForTokenClassification.forward`,  you can safely ignore this message.\n",
      "***** Running Evaluation *****\n",
      "  Num examples = 835\n",
      "  Batch size = 2\n",
      "Saving model checkpoint to /output/checkpoint-2000\n",
      "Configuration saved in /output/checkpoint-2000/config.json\n",
      "Model weights saved in /output/checkpoint-2000/pytorch_model.bin\n",
      "tokenizer config file saved in /output/checkpoint-2000/tokenizer_config.json\n",
      "Special tokens file saved in /output/checkpoint-2000/special_tokens_map.json\n",
      "The following columns in the evaluation set don't have a corresponding argument in `BigBirdForTokenClassification.forward` and have been ignored: __index_level_0__. If __index_level_0__ are not expected by `BigBirdForTokenClassification.forward`,  you can safely ignore this message.\n",
      "***** Running Evaluation *****\n",
      "  Num examples = 835\n",
      "  Batch size = 2\n",
      "Saving model checkpoint to /output/checkpoint-2500\n",
      "Configuration saved in /output/checkpoint-2500/config.json\n",
      "Model weights saved in /output/checkpoint-2500/pytorch_model.bin\n",
      "tokenizer config file saved in /output/checkpoint-2500/tokenizer_config.json\n",
      "Special tokens file saved in /output/checkpoint-2500/special_tokens_map.json\n",
      "The following columns in the evaluation set don't have a corresponding argument in `BigBirdForTokenClassification.forward` and have been ignored: __index_level_0__. If __index_level_0__ are not expected by `BigBirdForTokenClassification.forward`,  you can safely ignore this message.\n",
      "***** Running Evaluation *****\n",
      "  Num examples = 835\n",
      "  Batch size = 2\n",
      "The following columns in the evaluation set don't have a corresponding argument in `BigBirdForTokenClassification.forward` and have been ignored: __index_level_0__. If __index_level_0__ are not expected by `BigBirdForTokenClassification.forward`,  you can safely ignore this message.\n",
      "***** Running Evaluation *****\n",
      "  Num examples = 835\n",
      "  Batch size = 2\n",
      "Saving model checkpoint to /output/checkpoint-3000\n",
      "Configuration saved in /output/checkpoint-3000/config.json\n",
      "Model weights saved in /output/checkpoint-3000/pytorch_model.bin\n",
      "tokenizer config file saved in /output/checkpoint-3000/tokenizer_config.json\n",
      "Special tokens file saved in /output/checkpoint-3000/special_tokens_map.json\n",
      "The following columns in the evaluation set don't have a corresponding argument in `BigBirdForTokenClassification.forward` and have been ignored: __index_level_0__. If __index_level_0__ are not expected by `BigBirdForTokenClassification.forward`,  you can safely ignore this message.\n",
      "***** Running Evaluation *****\n",
      "  Num examples = 835\n",
      "  Batch size = 2\n",
      "Saving model checkpoint to /output/checkpoint-3500\n",
      "Configuration saved in /output/checkpoint-3500/config.json\n",
      "Model weights saved in /output/checkpoint-3500/pytorch_model.bin\n",
      "tokenizer config file saved in /output/checkpoint-3500/tokenizer_config.json\n",
      "Special tokens file saved in /output/checkpoint-3500/special_tokens_map.json\n",
      "The following columns in the evaluation set don't have a corresponding argument in `BigBirdForTokenClassification.forward` and have been ignored: __index_level_0__. If __index_level_0__ are not expected by `BigBirdForTokenClassification.forward`,  you can safely ignore this message.\n",
      "***** Running Evaluation *****\n",
      "  Num examples = 835\n",
      "  Batch size = 2\n",
      "Saving model checkpoint to /output/checkpoint-4000\n",
      "Configuration saved in /output/checkpoint-4000/config.json\n",
      "Model weights saved in /output/checkpoint-4000/pytorch_model.bin\n",
      "tokenizer config file saved in /output/checkpoint-4000/tokenizer_config.json\n",
      "Special tokens file saved in /output/checkpoint-4000/special_tokens_map.json\n",
      "The following columns in the evaluation set don't have a corresponding argument in `BigBirdForTokenClassification.forward` and have been ignored: __index_level_0__. If __index_level_0__ are not expected by `BigBirdForTokenClassification.forward`,  you can safely ignore this message.\n",
      "***** Running Evaluation *****\n",
      "  Num examples = 835\n",
      "  Batch size = 2\n",
      "\n",
      "\n",
      "Training completed. Do not forget to share your model on huggingface.co/models =)\n",
      "\n",
      "\n"
     ]
    }
   ],
   "source": [
    "trainer = Trainer(\n",
    "        model=model,\n",
    "        args=args,\n",
    "        train_dataset=train_dataset,\n",
    "        eval_dataset=eval_dataset,\n",
    "        tokenizer=tokenizer\n",
    "    )\n",
    "trainer.train()\n",
    "    \n",
    "del model\n",
    "gc.collect()\n",
    "torch.cuda.empty_cache()\n",
    "    "
   ]
  },
  {
   "cell_type": "code",
   "execution_count": null,
   "id": "883d80e6",
   "metadata": {},
   "outputs": [],
   "source": [
    "# With proper hyperparameter  tunning it could yield better results "
   ]
  }
 ],
 "metadata": {
  "kernelspec": {
   "display_name": "Python 3",
   "language": "python",
   "name": "python3"
  },
  "language_info": {
   "codemirror_mode": {
    "name": "ipython",
    "version": 3
   },
   "file_extension": ".py",
   "mimetype": "text/x-python",
   "name": "python",
   "nbconvert_exporter": "python",
   "pygments_lexer": "ipython3",
   "version": "3.7.12"
  },
  "papermill": {
   "default_parameters": {},
   "duration": 5346.701545,
   "end_time": "2022-09-25T15:46:14.145780",
   "environment_variables": {},
   "exception": null,
   "input_path": "__notebook__.ipynb",
   "output_path": "__notebook__.ipynb",
   "parameters": {},
   "start_time": "2022-09-25T14:17:07.444235",
   "version": "2.3.4"
  },
  "widgets": {
   "application/vnd.jupyter.widget-state+json": {
    "state": {
     "11bc1fcd31454584b632b2ff5db0c229": {
      "model_module": "@jupyter-widgets/controls",
      "model_module_version": "1.5.0",
      "model_name": "HBoxModel",
      "state": {
       "_dom_classes": [],
       "_model_module": "@jupyter-widgets/controls",
       "_model_module_version": "1.5.0",
       "_model_name": "HBoxModel",
       "_view_count": null,
       "_view_module": "@jupyter-widgets/controls",
       "_view_module_version": "1.5.0",
       "_view_name": "HBoxView",
       "box_style": "",
       "children": [
        "IPY_MODEL_38ffc5dfe52a4053b8461d93b302e6d4",
        "IPY_MODEL_b0f2961d185c42fdbfa42c78151c1ebc",
        "IPY_MODEL_18ec48c1a35d404cb487b429d4c05873"
       ],
       "layout": "IPY_MODEL_53092e320fcf4599a95d799ab7d7b9e4"
      }
     },
     "18ec48c1a35d404cb487b429d4c05873": {
      "model_module": "@jupyter-widgets/controls",
      "model_module_version": "1.5.0",
      "model_name": "HTMLModel",
      "state": {
       "_dom_classes": [],
       "_model_module": "@jupyter-widgets/controls",
       "_model_module_version": "1.5.0",
       "_model_name": "HTMLModel",
       "_view_count": null,
       "_view_module": "@jupyter-widgets/controls",
       "_view_module_version": "1.5.0",
       "_view_name": "HTMLView",
       "description": "",
       "description_tooltip": null,
       "layout": "IPY_MODEL_b3ea1b7d94ef446c9dc48bd42cc86266",
       "placeholder": "​",
       "style": "IPY_MODEL_ac360d1ba7e74ffe873c00cf193c30b1",
       "value": " 826k/826k [00:00&lt;00:00, 1.78MB/s]"
      }
     },
     "1d951b98c21849c3ad65842fca38fe83": {
      "model_module": "@jupyter-widgets/base",
      "model_module_version": "1.2.0",
      "model_name": "LayoutModel",
      "state": {
       "_model_module": "@jupyter-widgets/base",
       "_model_module_version": "1.2.0",
       "_model_name": "LayoutModel",
       "_view_count": null,
       "_view_module": "@jupyter-widgets/base",
       "_view_module_version": "1.2.0",
       "_view_name": "LayoutView",
       "align_content": null,
       "align_items": null,
       "align_self": null,
       "border": null,
       "bottom": null,
       "display": null,
       "flex": null,
       "flex_flow": null,
       "grid_area": null,
       "grid_auto_columns": null,
       "grid_auto_flow": null,
       "grid_auto_rows": null,
       "grid_column": null,
       "grid_gap": null,
       "grid_row": null,
       "grid_template_areas": null,
       "grid_template_columns": null,
       "grid_template_rows": null,
       "height": null,
       "justify_content": null,
       "justify_items": null,
       "left": null,
       "margin": null,
       "max_height": null,
       "max_width": null,
       "min_height": null,
       "min_width": null,
       "object_fit": null,
       "object_position": null,
       "order": null,
       "overflow": null,
       "overflow_x": null,
       "overflow_y": null,
       "padding": null,
       "right": null,
       "top": null,
       "visibility": null,
       "width": null
      }
     },
     "1fbdcd89859444639b3e62fc693edbf6": {
      "model_module": "@jupyter-widgets/controls",
      "model_module_version": "1.5.0",
      "model_name": "FloatProgressModel",
      "state": {
       "_dom_classes": [],
       "_model_module": "@jupyter-widgets/controls",
       "_model_module_version": "1.5.0",
       "_model_name": "FloatProgressModel",
       "_view_count": null,
       "_view_module": "@jupyter-widgets/controls",
       "_view_module_version": "1.5.0",
       "_view_name": "ProgressView",
       "bar_style": "success",
       "description": "",
       "description_tooltip": null,
       "layout": "IPY_MODEL_3231a650ad7c4b0ba7f7b18eaf9ffac9",
       "max": 775,
       "min": 0,
       "orientation": "horizontal",
       "style": "IPY_MODEL_63d6b4d9b8bc4640939840715bee5f29",
       "value": 775
      }
     },
     "21d42c6a0ae745d6af304340ac46035c": {
      "model_module": "@jupyter-widgets/controls",
      "model_module_version": "1.5.0",
      "model_name": "DescriptionStyleModel",
      "state": {
       "_model_module": "@jupyter-widgets/controls",
       "_model_module_version": "1.5.0",
       "_model_name": "DescriptionStyleModel",
       "_view_count": null,
       "_view_module": "@jupyter-widgets/base",
       "_view_module_version": "1.2.0",
       "_view_name": "StyleView",
       "description_width": ""
      }
     },
     "22679154e1b143858c1cef51309a846e": {
      "model_module": "@jupyter-widgets/base",
      "model_module_version": "1.2.0",
      "model_name": "LayoutModel",
      "state": {
       "_model_module": "@jupyter-widgets/base",
       "_model_module_version": "1.2.0",
       "_model_name": "LayoutModel",
       "_view_count": null,
       "_view_module": "@jupyter-widgets/base",
       "_view_module_version": "1.2.0",
       "_view_name": "LayoutView",
       "align_content": null,
       "align_items": null,
       "align_self": null,
       "border": null,
       "bottom": null,
       "display": null,
       "flex": null,
       "flex_flow": null,
       "grid_area": null,
       "grid_auto_columns": null,
       "grid_auto_flow": null,
       "grid_auto_rows": null,
       "grid_column": null,
       "grid_gap": null,
       "grid_row": null,
       "grid_template_areas": null,
       "grid_template_columns": null,
       "grid_template_rows": null,
       "height": null,
       "justify_content": null,
       "justify_items": null,
       "left": null,
       "margin": null,
       "max_height": null,
       "max_width": null,
       "min_height": null,
       "min_width": null,
       "object_fit": null,
       "object_position": null,
       "order": null,
       "overflow": null,
       "overflow_x": null,
       "overflow_y": null,
       "padding": null,
       "right": null,
       "top": null,
       "visibility": null,
       "width": null
      }
     },
     "2301faf333714270b6abb9bb40445817": {
      "model_module": "@jupyter-widgets/base",
      "model_module_version": "1.2.0",
      "model_name": "LayoutModel",
      "state": {
       "_model_module": "@jupyter-widgets/base",
       "_model_module_version": "1.2.0",
       "_model_name": "LayoutModel",
       "_view_count": null,
       "_view_module": "@jupyter-widgets/base",
       "_view_module_version": "1.2.0",
       "_view_name": "LayoutView",
       "align_content": null,
       "align_items": null,
       "align_self": null,
       "border": null,
       "bottom": null,
       "display": null,
       "flex": null,
       "flex_flow": null,
       "grid_area": null,
       "grid_auto_columns": null,
       "grid_auto_flow": null,
       "grid_auto_rows": null,
       "grid_column": null,
       "grid_gap": null,
       "grid_row": null,
       "grid_template_areas": null,
       "grid_template_columns": null,
       "grid_template_rows": null,
       "height": null,
       "justify_content": null,
       "justify_items": null,
       "left": null,
       "margin": null,
       "max_height": null,
       "max_width": null,
       "min_height": null,
       "min_width": null,
       "object_fit": null,
       "object_position": null,
       "order": null,
       "overflow": null,
       "overflow_x": null,
       "overflow_y": null,
       "padding": null,
       "right": null,
       "top": null,
       "visibility": null,
       "width": null
      }
     },
     "2ac6df67d97d4645a1783a0eafdbb000": {
      "model_module": "@jupyter-widgets/controls",
      "model_module_version": "1.5.0",
      "model_name": "HTMLModel",
      "state": {
       "_dom_classes": [],
       "_model_module": "@jupyter-widgets/controls",
       "_model_module_version": "1.5.0",
       "_model_name": "HTMLModel",
       "_view_count": null,
       "_view_module": "@jupyter-widgets/controls",
       "_view_module_version": "1.5.0",
       "_view_name": "HTMLView",
       "description": "",
       "description_tooltip": null,
       "layout": "IPY_MODEL_e482607c247e495ca57bf0eb4ab8fbde",
       "placeholder": "​",
       "style": "IPY_MODEL_9b97535ef5e54515916cb7986d79491c",
       "value": " 775/775 [00:00&lt;00:00, 13.6kB/s]"
      }
     },
     "2b4801db63da430ca2323f6d194e9126": {
      "model_module": "@jupyter-widgets/controls",
      "model_module_version": "1.5.0",
      "model_name": "DescriptionStyleModel",
      "state": {
       "_model_module": "@jupyter-widgets/controls",
       "_model_module_version": "1.5.0",
       "_model_name": "DescriptionStyleModel",
       "_view_count": null,
       "_view_module": "@jupyter-widgets/base",
       "_view_module_version": "1.2.0",
       "_view_name": "StyleView",
       "description_width": ""
      }
     },
     "3231a650ad7c4b0ba7f7b18eaf9ffac9": {
      "model_module": "@jupyter-widgets/base",
      "model_module_version": "1.2.0",
      "model_name": "LayoutModel",
      "state": {
       "_model_module": "@jupyter-widgets/base",
       "_model_module_version": "1.2.0",
       "_model_name": "LayoutModel",
       "_view_count": null,
       "_view_module": "@jupyter-widgets/base",
       "_view_module_version": "1.2.0",
       "_view_name": "LayoutView",
       "align_content": null,
       "align_items": null,
       "align_self": null,
       "border": null,
       "bottom": null,
       "display": null,
       "flex": null,
       "flex_flow": null,
       "grid_area": null,
       "grid_auto_columns": null,
       "grid_auto_flow": null,
       "grid_auto_rows": null,
       "grid_column": null,
       "grid_gap": null,
       "grid_row": null,
       "grid_template_areas": null,
       "grid_template_columns": null,
       "grid_template_rows": null,
       "height": null,
       "justify_content": null,
       "justify_items": null,
       "left": null,
       "margin": null,
       "max_height": null,
       "max_width": null,
       "min_height": null,
       "min_width": null,
       "object_fit": null,
       "object_position": null,
       "order": null,
       "overflow": null,
       "overflow_x": null,
       "overflow_y": null,
       "padding": null,
       "right": null,
       "top": null,
       "visibility": null,
       "width": null
      }
     },
     "34a5868a8c294633a9cca9708985905b": {
      "model_module": "@jupyter-widgets/controls",
      "model_module_version": "1.5.0",
      "model_name": "DescriptionStyleModel",
      "state": {
       "_model_module": "@jupyter-widgets/controls",
       "_model_module_version": "1.5.0",
       "_model_name": "DescriptionStyleModel",
       "_view_count": null,
       "_view_module": "@jupyter-widgets/base",
       "_view_module_version": "1.2.0",
       "_view_name": "StyleView",
       "description_width": ""
      }
     },
     "38ffc5dfe52a4053b8461d93b302e6d4": {
      "model_module": "@jupyter-widgets/controls",
      "model_module_version": "1.5.0",
      "model_name": "HTMLModel",
      "state": {
       "_dom_classes": [],
       "_model_module": "@jupyter-widgets/controls",
       "_model_module_version": "1.5.0",
       "_model_name": "HTMLModel",
       "_view_count": null,
       "_view_module": "@jupyter-widgets/controls",
       "_view_module_version": "1.5.0",
       "_view_name": "HTMLView",
       "description": "",
       "description_tooltip": null,
       "layout": "IPY_MODEL_d79f1005269546acbbfb0e4b6c1637e0",
       "placeholder": "​",
       "style": "IPY_MODEL_2b4801db63da430ca2323f6d194e9126",
       "value": "Downloading: 100%"
      }
     },
     "3ab4fe11e54c4a36a0f7957e21369e61": {
      "model_module": "@jupyter-widgets/base",
      "model_module_version": "1.2.0",
      "model_name": "LayoutModel",
      "state": {
       "_model_module": "@jupyter-widgets/base",
       "_model_module_version": "1.2.0",
       "_model_name": "LayoutModel",
       "_view_count": null,
       "_view_module": "@jupyter-widgets/base",
       "_view_module_version": "1.2.0",
       "_view_name": "LayoutView",
       "align_content": null,
       "align_items": null,
       "align_self": null,
       "border": null,
       "bottom": null,
       "display": null,
       "flex": null,
       "flex_flow": null,
       "grid_area": null,
       "grid_auto_columns": null,
       "grid_auto_flow": null,
       "grid_auto_rows": null,
       "grid_column": null,
       "grid_gap": null,
       "grid_row": null,
       "grid_template_areas": null,
       "grid_template_columns": null,
       "grid_template_rows": null,
       "height": null,
       "justify_content": null,
       "justify_items": null,
       "left": null,
       "margin": null,
       "max_height": null,
       "max_width": null,
       "min_height": null,
       "min_width": null,
       "object_fit": null,
       "object_position": null,
       "order": null,
       "overflow": null,
       "overflow_x": null,
       "overflow_y": null,
       "padding": null,
       "right": null,
       "top": null,
       "visibility": null,
       "width": null
      }
     },
     "4d7ccc90ff05463989e250798015accc": {
      "model_module": "@jupyter-widgets/controls",
      "model_module_version": "1.5.0",
      "model_name": "ProgressStyleModel",
      "state": {
       "_model_module": "@jupyter-widgets/controls",
       "_model_module_version": "1.5.0",
       "_model_name": "ProgressStyleModel",
       "_view_count": null,
       "_view_module": "@jupyter-widgets/base",
       "_view_module_version": "1.2.0",
       "_view_name": "StyleView",
       "bar_color": null,
       "description_width": ""
      }
     },
     "4f59933a64bd4b32b65233de628f7bcf": {
      "model_module": "@jupyter-widgets/base",
      "model_module_version": "1.2.0",
      "model_name": "LayoutModel",
      "state": {
       "_model_module": "@jupyter-widgets/base",
       "_model_module_version": "1.2.0",
       "_model_name": "LayoutModel",
       "_view_count": null,
       "_view_module": "@jupyter-widgets/base",
       "_view_module_version": "1.2.0",
       "_view_name": "LayoutView",
       "align_content": null,
       "align_items": null,
       "align_self": null,
       "border": null,
       "bottom": null,
       "display": null,
       "flex": null,
       "flex_flow": null,
       "grid_area": null,
       "grid_auto_columns": null,
       "grid_auto_flow": null,
       "grid_auto_rows": null,
       "grid_column": null,
       "grid_gap": null,
       "grid_row": null,
       "grid_template_areas": null,
       "grid_template_columns": null,
       "grid_template_rows": null,
       "height": null,
       "justify_content": null,
       "justify_items": null,
       "left": null,
       "margin": null,
       "max_height": null,
       "max_width": null,
       "min_height": null,
       "min_width": null,
       "object_fit": null,
       "object_position": null,
       "order": null,
       "overflow": null,
       "overflow_x": null,
       "overflow_y": null,
       "padding": null,
       "right": null,
       "top": null,
       "visibility": null,
       "width": null
      }
     },
     "51814aa4a4584c4da1a6a74d969b9ba2": {
      "model_module": "@jupyter-widgets/base",
      "model_module_version": "1.2.0",
      "model_name": "LayoutModel",
      "state": {
       "_model_module": "@jupyter-widgets/base",
       "_model_module_version": "1.2.0",
       "_model_name": "LayoutModel",
       "_view_count": null,
       "_view_module": "@jupyter-widgets/base",
       "_view_module_version": "1.2.0",
       "_view_name": "LayoutView",
       "align_content": null,
       "align_items": null,
       "align_self": null,
       "border": null,
       "bottom": null,
       "display": null,
       "flex": null,
       "flex_flow": null,
       "grid_area": null,
       "grid_auto_columns": null,
       "grid_auto_flow": null,
       "grid_auto_rows": null,
       "grid_column": null,
       "grid_gap": null,
       "grid_row": null,
       "grid_template_areas": null,
       "grid_template_columns": null,
       "grid_template_rows": null,
       "height": null,
       "justify_content": null,
       "justify_items": null,
       "left": null,
       "margin": null,
       "max_height": null,
       "max_width": null,
       "min_height": null,
       "min_width": null,
       "object_fit": null,
       "object_position": null,
       "order": null,
       "overflow": null,
       "overflow_x": null,
       "overflow_y": null,
       "padding": null,
       "right": null,
       "top": null,
       "visibility": null,
       "width": null
      }
     },
     "53092e320fcf4599a95d799ab7d7b9e4": {
      "model_module": "@jupyter-widgets/base",
      "model_module_version": "1.2.0",
      "model_name": "LayoutModel",
      "state": {
       "_model_module": "@jupyter-widgets/base",
       "_model_module_version": "1.2.0",
       "_model_name": "LayoutModel",
       "_view_count": null,
       "_view_module": "@jupyter-widgets/base",
       "_view_module_version": "1.2.0",
       "_view_name": "LayoutView",
       "align_content": null,
       "align_items": null,
       "align_self": null,
       "border": null,
       "bottom": null,
       "display": null,
       "flex": null,
       "flex_flow": null,
       "grid_area": null,
       "grid_auto_columns": null,
       "grid_auto_flow": null,
       "grid_auto_rows": null,
       "grid_column": null,
       "grid_gap": null,
       "grid_row": null,
       "grid_template_areas": null,
       "grid_template_columns": null,
       "grid_template_rows": null,
       "height": null,
       "justify_content": null,
       "justify_items": null,
       "left": null,
       "margin": null,
       "max_height": null,
       "max_width": null,
       "min_height": null,
       "min_width": null,
       "object_fit": null,
       "object_position": null,
       "order": null,
       "overflow": null,
       "overflow_x": null,
       "overflow_y": null,
       "padding": null,
       "right": null,
       "top": null,
       "visibility": null,
       "width": null
      }
     },
     "5c04638d6ada40039472c863008fa854": {
      "model_module": "@jupyter-widgets/controls",
      "model_module_version": "1.5.0",
      "model_name": "HTMLModel",
      "state": {
       "_dom_classes": [],
       "_model_module": "@jupyter-widgets/controls",
       "_model_module_version": "1.5.0",
       "_model_name": "HTMLModel",
       "_view_count": null,
       "_view_module": "@jupyter-widgets/controls",
       "_view_module_version": "1.5.0",
       "_view_name": "HTMLView",
       "description": "",
       "description_tooltip": null,
       "layout": "IPY_MODEL_7fad4a06ff864c07a1e206a7a2d05d32",
       "placeholder": "​",
       "style": "IPY_MODEL_d61faf9a398e4120a5b378396314909f",
       "value": " 0.99k/0.99k [00:00&lt;00:00, 37.4kB/s]"
      }
     },
     "61099b5cbb1447199fbf0f3fd6aec1fb": {
      "model_module": "@jupyter-widgets/controls",
      "model_module_version": "1.5.0",
      "model_name": "HBoxModel",
      "state": {
       "_dom_classes": [],
       "_model_module": "@jupyter-widgets/controls",
       "_model_module_version": "1.5.0",
       "_model_name": "HBoxModel",
       "_view_count": null,
       "_view_module": "@jupyter-widgets/controls",
       "_view_module_version": "1.5.0",
       "_view_name": "HBoxView",
       "box_style": "",
       "children": [
        "IPY_MODEL_7e8d4688be834e6eb14fb39987bf0cde",
        "IPY_MODEL_1fbdcd89859444639b3e62fc693edbf6",
        "IPY_MODEL_2ac6df67d97d4645a1783a0eafdbb000"
       ],
       "layout": "IPY_MODEL_d3303d4c0acc470fb0ac2863f2f08ac6"
      }
     },
     "63d6b4d9b8bc4640939840715bee5f29": {
      "model_module": "@jupyter-widgets/controls",
      "model_module_version": "1.5.0",
      "model_name": "ProgressStyleModel",
      "state": {
       "_model_module": "@jupyter-widgets/controls",
       "_model_module_version": "1.5.0",
       "_model_name": "ProgressStyleModel",
       "_view_count": null,
       "_view_module": "@jupyter-widgets/base",
       "_view_module_version": "1.2.0",
       "_view_name": "StyleView",
       "bar_color": null,
       "description_width": ""
      }
     },
     "65f192216a5b4d9ba9e59b308f6c4e85": {
      "model_module": "@jupyter-widgets/controls",
      "model_module_version": "1.5.0",
      "model_name": "DescriptionStyleModel",
      "state": {
       "_model_module": "@jupyter-widgets/controls",
       "_model_module_version": "1.5.0",
       "_model_name": "DescriptionStyleModel",
       "_view_count": null,
       "_view_module": "@jupyter-widgets/base",
       "_view_module_version": "1.2.0",
       "_view_name": "StyleView",
       "description_width": ""
      }
     },
     "671d244e94b54443bc75f3fdfaae4960": {
      "model_module": "@jupyter-widgets/base",
      "model_module_version": "1.2.0",
      "model_name": "LayoutModel",
      "state": {
       "_model_module": "@jupyter-widgets/base",
       "_model_module_version": "1.2.0",
       "_model_name": "LayoutModel",
       "_view_count": null,
       "_view_module": "@jupyter-widgets/base",
       "_view_module_version": "1.2.0",
       "_view_name": "LayoutView",
       "align_content": null,
       "align_items": null,
       "align_self": null,
       "border": null,
       "bottom": null,
       "display": null,
       "flex": null,
       "flex_flow": null,
       "grid_area": null,
       "grid_auto_columns": null,
       "grid_auto_flow": null,
       "grid_auto_rows": null,
       "grid_column": null,
       "grid_gap": null,
       "grid_row": null,
       "grid_template_areas": null,
       "grid_template_columns": null,
       "grid_template_rows": null,
       "height": null,
       "justify_content": null,
       "justify_items": null,
       "left": null,
       "margin": null,
       "max_height": null,
       "max_width": null,
       "min_height": null,
       "min_width": null,
       "object_fit": null,
       "object_position": null,
       "order": null,
       "overflow": null,
       "overflow_x": null,
       "overflow_y": null,
       "padding": null,
       "right": null,
       "top": null,
       "visibility": null,
       "width": null
      }
     },
     "67ef601c7f3c4053aca19011ce598223": {
      "model_module": "@jupyter-widgets/base",
      "model_module_version": "1.2.0",
      "model_name": "LayoutModel",
      "state": {
       "_model_module": "@jupyter-widgets/base",
       "_model_module_version": "1.2.0",
       "_model_name": "LayoutModel",
       "_view_count": null,
       "_view_module": "@jupyter-widgets/base",
       "_view_module_version": "1.2.0",
       "_view_name": "LayoutView",
       "align_content": null,
       "align_items": null,
       "align_self": null,
       "border": null,
       "bottom": null,
       "display": null,
       "flex": null,
       "flex_flow": null,
       "grid_area": null,
       "grid_auto_columns": null,
       "grid_auto_flow": null,
       "grid_auto_rows": null,
       "grid_column": null,
       "grid_gap": null,
       "grid_row": null,
       "grid_template_areas": null,
       "grid_template_columns": null,
       "grid_template_rows": null,
       "height": null,
       "justify_content": null,
       "justify_items": null,
       "left": null,
       "margin": null,
       "max_height": null,
       "max_width": null,
       "min_height": null,
       "min_width": null,
       "object_fit": null,
       "object_position": null,
       "order": null,
       "overflow": null,
       "overflow_x": null,
       "overflow_y": null,
       "padding": null,
       "right": null,
       "top": null,
       "visibility": null,
       "width": null
      }
     },
     "69e0237550f44f9aa7c451857b2fac13": {
      "model_module": "@jupyter-widgets/controls",
      "model_module_version": "1.5.0",
      "model_name": "ProgressStyleModel",
      "state": {
       "_model_module": "@jupyter-widgets/controls",
       "_model_module_version": "1.5.0",
       "_model_name": "ProgressStyleModel",
       "_view_count": null,
       "_view_module": "@jupyter-widgets/base",
       "_view_module_version": "1.2.0",
       "_view_name": "StyleView",
       "bar_color": null,
       "description_width": ""
      }
     },
     "7e8d4688be834e6eb14fb39987bf0cde": {
      "model_module": "@jupyter-widgets/controls",
      "model_module_version": "1.5.0",
      "model_name": "HTMLModel",
      "state": {
       "_dom_classes": [],
       "_model_module": "@jupyter-widgets/controls",
       "_model_module_version": "1.5.0",
       "_model_name": "HTMLModel",
       "_view_count": null,
       "_view_module": "@jupyter-widgets/controls",
       "_view_module_version": "1.5.0",
       "_view_name": "HTMLView",
       "description": "",
       "description_tooltip": null,
       "layout": "IPY_MODEL_846efa34e793481f967f2ae79d5bca3f",
       "placeholder": "​",
       "style": "IPY_MODEL_21d42c6a0ae745d6af304340ac46035c",
       "value": "Downloading: 100%"
      }
     },
     "7fad4a06ff864c07a1e206a7a2d05d32": {
      "model_module": "@jupyter-widgets/base",
      "model_module_version": "1.2.0",
      "model_name": "LayoutModel",
      "state": {
       "_model_module": "@jupyter-widgets/base",
       "_model_module_version": "1.2.0",
       "_model_name": "LayoutModel",
       "_view_count": null,
       "_view_module": "@jupyter-widgets/base",
       "_view_module_version": "1.2.0",
       "_view_name": "LayoutView",
       "align_content": null,
       "align_items": null,
       "align_self": null,
       "border": null,
       "bottom": null,
       "display": null,
       "flex": null,
       "flex_flow": null,
       "grid_area": null,
       "grid_auto_columns": null,
       "grid_auto_flow": null,
       "grid_auto_rows": null,
       "grid_column": null,
       "grid_gap": null,
       "grid_row": null,
       "grid_template_areas": null,
       "grid_template_columns": null,
       "grid_template_rows": null,
       "height": null,
       "justify_content": null,
       "justify_items": null,
       "left": null,
       "margin": null,
       "max_height": null,
       "max_width": null,
       "min_height": null,
       "min_width": null,
       "object_fit": null,
       "object_position": null,
       "order": null,
       "overflow": null,
       "overflow_x": null,
       "overflow_y": null,
       "padding": null,
       "right": null,
       "top": null,
       "visibility": null,
       "width": null
      }
     },
     "846efa34e793481f967f2ae79d5bca3f": {
      "model_module": "@jupyter-widgets/base",
      "model_module_version": "1.2.0",
      "model_name": "LayoutModel",
      "state": {
       "_model_module": "@jupyter-widgets/base",
       "_model_module_version": "1.2.0",
       "_model_name": "LayoutModel",
       "_view_count": null,
       "_view_module": "@jupyter-widgets/base",
       "_view_module_version": "1.2.0",
       "_view_name": "LayoutView",
       "align_content": null,
       "align_items": null,
       "align_self": null,
       "border": null,
       "bottom": null,
       "display": null,
       "flex": null,
       "flex_flow": null,
       "grid_area": null,
       "grid_auto_columns": null,
       "grid_auto_flow": null,
       "grid_auto_rows": null,
       "grid_column": null,
       "grid_gap": null,
       "grid_row": null,
       "grid_template_areas": null,
       "grid_template_columns": null,
       "grid_template_rows": null,
       "height": null,
       "justify_content": null,
       "justify_items": null,
       "left": null,
       "margin": null,
       "max_height": null,
       "max_width": null,
       "min_height": null,
       "min_width": null,
       "object_fit": null,
       "object_position": null,
       "order": null,
       "overflow": null,
       "overflow_x": null,
       "overflow_y": null,
       "padding": null,
       "right": null,
       "top": null,
       "visibility": null,
       "width": null
      }
     },
     "8cc4c7fb56c74b318e1069834d42f1b3": {
      "model_module": "@jupyter-widgets/controls",
      "model_module_version": "1.5.0",
      "model_name": "FloatProgressModel",
      "state": {
       "_dom_classes": [],
       "_model_module": "@jupyter-widgets/controls",
       "_model_module_version": "1.5.0",
       "_model_name": "FloatProgressModel",
       "_view_count": null,
       "_view_module": "@jupyter-widgets/controls",
       "_view_module_version": "1.5.0",
       "_view_name": "ProgressView",
       "bar_style": "success",
       "description": "",
       "description_tooltip": null,
       "layout": "IPY_MODEL_91e9bc16fcb64cdeab8dba87fb5e4bf0",
       "max": 760,
       "min": 0,
       "orientation": "horizontal",
       "style": "IPY_MODEL_69e0237550f44f9aa7c451857b2fac13",
       "value": 760
      }
     },
     "8eec3944ad7140b994992d1ddfc3d398": {
      "model_module": "@jupyter-widgets/controls",
      "model_module_version": "1.5.0",
      "model_name": "DescriptionStyleModel",
      "state": {
       "_model_module": "@jupyter-widgets/controls",
       "_model_module_version": "1.5.0",
       "_model_name": "DescriptionStyleModel",
       "_view_count": null,
       "_view_module": "@jupyter-widgets/base",
       "_view_module_version": "1.2.0",
       "_view_name": "StyleView",
       "description_width": ""
      }
     },
     "91e9bc16fcb64cdeab8dba87fb5e4bf0": {
      "model_module": "@jupyter-widgets/base",
      "model_module_version": "1.2.0",
      "model_name": "LayoutModel",
      "state": {
       "_model_module": "@jupyter-widgets/base",
       "_model_module_version": "1.2.0",
       "_model_name": "LayoutModel",
       "_view_count": null,
       "_view_module": "@jupyter-widgets/base",
       "_view_module_version": "1.2.0",
       "_view_name": "LayoutView",
       "align_content": null,
       "align_items": null,
       "align_self": null,
       "border": null,
       "bottom": null,
       "display": null,
       "flex": null,
       "flex_flow": null,
       "grid_area": null,
       "grid_auto_columns": null,
       "grid_auto_flow": null,
       "grid_auto_rows": null,
       "grid_column": null,
       "grid_gap": null,
       "grid_row": null,
       "grid_template_areas": null,
       "grid_template_columns": null,
       "grid_template_rows": null,
       "height": null,
       "justify_content": null,
       "justify_items": null,
       "left": null,
       "margin": null,
       "max_height": null,
       "max_width": null,
       "min_height": null,
       "min_width": null,
       "object_fit": null,
       "object_position": null,
       "order": null,
       "overflow": null,
       "overflow_x": null,
       "overflow_y": null,
       "padding": null,
       "right": null,
       "top": null,
       "visibility": null,
       "width": null
      }
     },
     "91fef7f2b45c403ebbf4880381a23071": {
      "model_module": "@jupyter-widgets/controls",
      "model_module_version": "1.5.0",
      "model_name": "HBoxModel",
      "state": {
       "_dom_classes": [],
       "_model_module": "@jupyter-widgets/controls",
       "_model_module_version": "1.5.0",
       "_model_name": "HBoxModel",
       "_view_count": null,
       "_view_module": "@jupyter-widgets/controls",
       "_view_module_version": "1.5.0",
       "_view_name": "HBoxView",
       "box_style": "",
       "children": [
        "IPY_MODEL_cb21e2a9868a477cafa38c105f56f527",
        "IPY_MODEL_d0c5c1288189435b88047a6b1aec3cef",
        "IPY_MODEL_5c04638d6ada40039472c863008fa854"
       ],
       "layout": "IPY_MODEL_d3fc062471564c6f8c268f675e6ff3dc"
      }
     },
     "9b97535ef5e54515916cb7986d79491c": {
      "model_module": "@jupyter-widgets/controls",
      "model_module_version": "1.5.0",
      "model_name": "DescriptionStyleModel",
      "state": {
       "_model_module": "@jupyter-widgets/controls",
       "_model_module_version": "1.5.0",
       "_model_name": "DescriptionStyleModel",
       "_view_count": null,
       "_view_module": "@jupyter-widgets/base",
       "_view_module_version": "1.2.0",
       "_view_name": "StyleView",
       "description_width": ""
      }
     },
     "9d57cf8e28c74455a79086e0c1d1735a": {
      "model_module": "@jupyter-widgets/controls",
      "model_module_version": "1.5.0",
      "model_name": "ProgressStyleModel",
      "state": {
       "_model_module": "@jupyter-widgets/controls",
       "_model_module_version": "1.5.0",
       "_model_name": "ProgressStyleModel",
       "_view_count": null,
       "_view_module": "@jupyter-widgets/base",
       "_view_module_version": "1.2.0",
       "_view_name": "StyleView",
       "bar_color": null,
       "description_width": ""
      }
     },
     "9dd3d473b87444efa41f70d250460c1f": {
      "model_module": "@jupyter-widgets/controls",
      "model_module_version": "1.5.0",
      "model_name": "DescriptionStyleModel",
      "state": {
       "_model_module": "@jupyter-widgets/controls",
       "_model_module_version": "1.5.0",
       "_model_name": "DescriptionStyleModel",
       "_view_count": null,
       "_view_module": "@jupyter-widgets/base",
       "_view_module_version": "1.2.0",
       "_view_name": "StyleView",
       "description_width": ""
      }
     },
     "a420f066fcaf4384b9c3ece068990186": {
      "model_module": "@jupyter-widgets/controls",
      "model_module_version": "1.5.0",
      "model_name": "DescriptionStyleModel",
      "state": {
       "_model_module": "@jupyter-widgets/controls",
       "_model_module_version": "1.5.0",
       "_model_name": "DescriptionStyleModel",
       "_view_count": null,
       "_view_module": "@jupyter-widgets/base",
       "_view_module_version": "1.2.0",
       "_view_name": "StyleView",
       "description_width": ""
      }
     },
     "a431483c4ff6478893d6ffe38340260b": {
      "model_module": "@jupyter-widgets/base",
      "model_module_version": "1.2.0",
      "model_name": "LayoutModel",
      "state": {
       "_model_module": "@jupyter-widgets/base",
       "_model_module_version": "1.2.0",
       "_model_name": "LayoutModel",
       "_view_count": null,
       "_view_module": "@jupyter-widgets/base",
       "_view_module_version": "1.2.0",
       "_view_name": "LayoutView",
       "align_content": null,
       "align_items": null,
       "align_self": null,
       "border": null,
       "bottom": null,
       "display": null,
       "flex": null,
       "flex_flow": null,
       "grid_area": null,
       "grid_auto_columns": null,
       "grid_auto_flow": null,
       "grid_auto_rows": null,
       "grid_column": null,
       "grid_gap": null,
       "grid_row": null,
       "grid_template_areas": null,
       "grid_template_columns": null,
       "grid_template_rows": null,
       "height": null,
       "justify_content": null,
       "justify_items": null,
       "left": null,
       "margin": null,
       "max_height": null,
       "max_width": null,
       "min_height": null,
       "min_width": null,
       "object_fit": null,
       "object_position": null,
       "order": null,
       "overflow": null,
       "overflow_x": null,
       "overflow_y": null,
       "padding": null,
       "right": null,
       "top": null,
       "visibility": null,
       "width": null
      }
     },
     "a4af2aecc7a849aa93338ffc5645e7aa": {
      "model_module": "@jupyter-widgets/controls",
      "model_module_version": "1.5.0",
      "model_name": "HTMLModel",
      "state": {
       "_dom_classes": [],
       "_model_module": "@jupyter-widgets/controls",
       "_model_module_version": "1.5.0",
       "_model_name": "HTMLModel",
       "_view_count": null,
       "_view_module": "@jupyter-widgets/controls",
       "_view_module_version": "1.5.0",
       "_view_name": "HTMLView",
       "description": "",
       "description_tooltip": null,
       "layout": "IPY_MODEL_22679154e1b143858c1cef51309a846e",
       "placeholder": "​",
       "style": "IPY_MODEL_a420f066fcaf4384b9c3ece068990186",
       "value": " 489M/489M [00:11&lt;00:00, 32.5MB/s]"
      }
     },
     "a9a05b7efd8c46118986c7f3f6ea5c4d": {
      "model_module": "@jupyter-widgets/controls",
      "model_module_version": "1.5.0",
      "model_name": "HBoxModel",
      "state": {
       "_dom_classes": [],
       "_model_module": "@jupyter-widgets/controls",
       "_model_module_version": "1.5.0",
       "_model_name": "HBoxModel",
       "_view_count": null,
       "_view_module": "@jupyter-widgets/controls",
       "_view_module_version": "1.5.0",
       "_view_name": "HBoxView",
       "box_style": "",
       "children": [
        "IPY_MODEL_fb83e9e4accf4621912ea1835a19ecf3",
        "IPY_MODEL_8cc4c7fb56c74b318e1069834d42f1b3",
        "IPY_MODEL_b0fac1d21222408d8be588daf40158ce"
       ],
       "layout": "IPY_MODEL_d9e9f1ead03a42b4b17ced9392ab8f87"
      }
     },
     "ac360d1ba7e74ffe873c00cf193c30b1": {
      "model_module": "@jupyter-widgets/controls",
      "model_module_version": "1.5.0",
      "model_name": "DescriptionStyleModel",
      "state": {
       "_model_module": "@jupyter-widgets/controls",
       "_model_module_version": "1.5.0",
       "_model_name": "DescriptionStyleModel",
       "_view_count": null,
       "_view_module": "@jupyter-widgets/base",
       "_view_module_version": "1.2.0",
       "_view_name": "StyleView",
       "description_width": ""
      }
     },
     "b0f2961d185c42fdbfa42c78151c1ebc": {
      "model_module": "@jupyter-widgets/controls",
      "model_module_version": "1.5.0",
      "model_name": "FloatProgressModel",
      "state": {
       "_dom_classes": [],
       "_model_module": "@jupyter-widgets/controls",
       "_model_module_version": "1.5.0",
       "_model_name": "FloatProgressModel",
       "_view_count": null,
       "_view_module": "@jupyter-widgets/controls",
       "_view_module_version": "1.5.0",
       "_view_name": "ProgressView",
       "bar_style": "success",
       "description": "",
       "description_tooltip": null,
       "layout": "IPY_MODEL_a431483c4ff6478893d6ffe38340260b",
       "max": 845731,
       "min": 0,
       "orientation": "horizontal",
       "style": "IPY_MODEL_d6161439e7e5449095f009a4867b5c99",
       "value": 845731
      }
     },
     "b0fac1d21222408d8be588daf40158ce": {
      "model_module": "@jupyter-widgets/controls",
      "model_module_version": "1.5.0",
      "model_name": "HTMLModel",
      "state": {
       "_dom_classes": [],
       "_model_module": "@jupyter-widgets/controls",
       "_model_module_version": "1.5.0",
       "_model_name": "HTMLModel",
       "_view_count": null,
       "_view_module": "@jupyter-widgets/controls",
       "_view_module_version": "1.5.0",
       "_view_name": "HTMLView",
       "description": "",
       "description_tooltip": null,
       "layout": "IPY_MODEL_1d951b98c21849c3ad65842fca38fe83",
       "placeholder": "​",
       "style": "IPY_MODEL_34a5868a8c294633a9cca9708985905b",
       "value": " 760/760 [00:00&lt;00:00, 30.4kB/s]"
      }
     },
     "b3ea1b7d94ef446c9dc48bd42cc86266": {
      "model_module": "@jupyter-widgets/base",
      "model_module_version": "1.2.0",
      "model_name": "LayoutModel",
      "state": {
       "_model_module": "@jupyter-widgets/base",
       "_model_module_version": "1.2.0",
       "_model_name": "LayoutModel",
       "_view_count": null,
       "_view_module": "@jupyter-widgets/base",
       "_view_module_version": "1.2.0",
       "_view_name": "LayoutView",
       "align_content": null,
       "align_items": null,
       "align_self": null,
       "border": null,
       "bottom": null,
       "display": null,
       "flex": null,
       "flex_flow": null,
       "grid_area": null,
       "grid_auto_columns": null,
       "grid_auto_flow": null,
       "grid_auto_rows": null,
       "grid_column": null,
       "grid_gap": null,
       "grid_row": null,
       "grid_template_areas": null,
       "grid_template_columns": null,
       "grid_template_rows": null,
       "height": null,
       "justify_content": null,
       "justify_items": null,
       "left": null,
       "margin": null,
       "max_height": null,
       "max_width": null,
       "min_height": null,
       "min_width": null,
       "object_fit": null,
       "object_position": null,
       "order": null,
       "overflow": null,
       "overflow_x": null,
       "overflow_y": null,
       "padding": null,
       "right": null,
       "top": null,
       "visibility": null,
       "width": null
      }
     },
     "ba722016bde6435184ba21539f6246d3": {
      "model_module": "@jupyter-widgets/controls",
      "model_module_version": "1.5.0",
      "model_name": "HTMLModel",
      "state": {
       "_dom_classes": [],
       "_model_module": "@jupyter-widgets/controls",
       "_model_module_version": "1.5.0",
       "_model_name": "HTMLModel",
       "_view_count": null,
       "_view_module": "@jupyter-widgets/controls",
       "_view_module_version": "1.5.0",
       "_view_name": "HTMLView",
       "description": "",
       "description_tooltip": null,
       "layout": "IPY_MODEL_2301faf333714270b6abb9bb40445817",
       "placeholder": "​",
       "style": "IPY_MODEL_8eec3944ad7140b994992d1ddfc3d398",
       "value": "Downloading: 100%"
      }
     },
     "cb21e2a9868a477cafa38c105f56f527": {
      "model_module": "@jupyter-widgets/controls",
      "model_module_version": "1.5.0",
      "model_name": "HTMLModel",
      "state": {
       "_dom_classes": [],
       "_model_module": "@jupyter-widgets/controls",
       "_model_module_version": "1.5.0",
       "_model_name": "HTMLModel",
       "_view_count": null,
       "_view_module": "@jupyter-widgets/controls",
       "_view_module_version": "1.5.0",
       "_view_name": "HTMLView",
       "description": "",
       "description_tooltip": null,
       "layout": "IPY_MODEL_51814aa4a4584c4da1a6a74d969b9ba2",
       "placeholder": "​",
       "style": "IPY_MODEL_9dd3d473b87444efa41f70d250460c1f",
       "value": "Downloading: 100%"
      }
     },
     "d0c5c1288189435b88047a6b1aec3cef": {
      "model_module": "@jupyter-widgets/controls",
      "model_module_version": "1.5.0",
      "model_name": "FloatProgressModel",
      "state": {
       "_dom_classes": [],
       "_model_module": "@jupyter-widgets/controls",
       "_model_module_version": "1.5.0",
       "_model_name": "FloatProgressModel",
       "_view_count": null,
       "_view_module": "@jupyter-widgets/controls",
       "_view_module_version": "1.5.0",
       "_view_name": "ProgressView",
       "bar_style": "success",
       "description": "",
       "description_tooltip": null,
       "layout": "IPY_MODEL_3ab4fe11e54c4a36a0f7957e21369e61",
       "max": 1017,
       "min": 0,
       "orientation": "horizontal",
       "style": "IPY_MODEL_4d7ccc90ff05463989e250798015accc",
       "value": 1017
      }
     },
     "d3303d4c0acc470fb0ac2863f2f08ac6": {
      "model_module": "@jupyter-widgets/base",
      "model_module_version": "1.2.0",
      "model_name": "LayoutModel",
      "state": {
       "_model_module": "@jupyter-widgets/base",
       "_model_module_version": "1.2.0",
       "_model_name": "LayoutModel",
       "_view_count": null,
       "_view_module": "@jupyter-widgets/base",
       "_view_module_version": "1.2.0",
       "_view_name": "LayoutView",
       "align_content": null,
       "align_items": null,
       "align_self": null,
       "border": null,
       "bottom": null,
       "display": null,
       "flex": null,
       "flex_flow": null,
       "grid_area": null,
       "grid_auto_columns": null,
       "grid_auto_flow": null,
       "grid_auto_rows": null,
       "grid_column": null,
       "grid_gap": null,
       "grid_row": null,
       "grid_template_areas": null,
       "grid_template_columns": null,
       "grid_template_rows": null,
       "height": null,
       "justify_content": null,
       "justify_items": null,
       "left": null,
       "margin": null,
       "max_height": null,
       "max_width": null,
       "min_height": null,
       "min_width": null,
       "object_fit": null,
       "object_position": null,
       "order": null,
       "overflow": null,
       "overflow_x": null,
       "overflow_y": null,
       "padding": null,
       "right": null,
       "top": null,
       "visibility": null,
       "width": null
      }
     },
     "d3fc062471564c6f8c268f675e6ff3dc": {
      "model_module": "@jupyter-widgets/base",
      "model_module_version": "1.2.0",
      "model_name": "LayoutModel",
      "state": {
       "_model_module": "@jupyter-widgets/base",
       "_model_module_version": "1.2.0",
       "_model_name": "LayoutModel",
       "_view_count": null,
       "_view_module": "@jupyter-widgets/base",
       "_view_module_version": "1.2.0",
       "_view_name": "LayoutView",
       "align_content": null,
       "align_items": null,
       "align_self": null,
       "border": null,
       "bottom": null,
       "display": null,
       "flex": null,
       "flex_flow": null,
       "grid_area": null,
       "grid_auto_columns": null,
       "grid_auto_flow": null,
       "grid_auto_rows": null,
       "grid_column": null,
       "grid_gap": null,
       "grid_row": null,
       "grid_template_areas": null,
       "grid_template_columns": null,
       "grid_template_rows": null,
       "height": null,
       "justify_content": null,
       "justify_items": null,
       "left": null,
       "margin": null,
       "max_height": null,
       "max_width": null,
       "min_height": null,
       "min_width": null,
       "object_fit": null,
       "object_position": null,
       "order": null,
       "overflow": null,
       "overflow_x": null,
       "overflow_y": null,
       "padding": null,
       "right": null,
       "top": null,
       "visibility": null,
       "width": null
      }
     },
     "d6161439e7e5449095f009a4867b5c99": {
      "model_module": "@jupyter-widgets/controls",
      "model_module_version": "1.5.0",
      "model_name": "ProgressStyleModel",
      "state": {
       "_model_module": "@jupyter-widgets/controls",
       "_model_module_version": "1.5.0",
       "_model_name": "ProgressStyleModel",
       "_view_count": null,
       "_view_module": "@jupyter-widgets/base",
       "_view_module_version": "1.2.0",
       "_view_name": "StyleView",
       "bar_color": null,
       "description_width": ""
      }
     },
     "d61faf9a398e4120a5b378396314909f": {
      "model_module": "@jupyter-widgets/controls",
      "model_module_version": "1.5.0",
      "model_name": "DescriptionStyleModel",
      "state": {
       "_model_module": "@jupyter-widgets/controls",
       "_model_module_version": "1.5.0",
       "_model_name": "DescriptionStyleModel",
       "_view_count": null,
       "_view_module": "@jupyter-widgets/base",
       "_view_module_version": "1.2.0",
       "_view_name": "StyleView",
       "description_width": ""
      }
     },
     "d79f1005269546acbbfb0e4b6c1637e0": {
      "model_module": "@jupyter-widgets/base",
      "model_module_version": "1.2.0",
      "model_name": "LayoutModel",
      "state": {
       "_model_module": "@jupyter-widgets/base",
       "_model_module_version": "1.2.0",
       "_model_name": "LayoutModel",
       "_view_count": null,
       "_view_module": "@jupyter-widgets/base",
       "_view_module_version": "1.2.0",
       "_view_name": "LayoutView",
       "align_content": null,
       "align_items": null,
       "align_self": null,
       "border": null,
       "bottom": null,
       "display": null,
       "flex": null,
       "flex_flow": null,
       "grid_area": null,
       "grid_auto_columns": null,
       "grid_auto_flow": null,
       "grid_auto_rows": null,
       "grid_column": null,
       "grid_gap": null,
       "grid_row": null,
       "grid_template_areas": null,
       "grid_template_columns": null,
       "grid_template_rows": null,
       "height": null,
       "justify_content": null,
       "justify_items": null,
       "left": null,
       "margin": null,
       "max_height": null,
       "max_width": null,
       "min_height": null,
       "min_width": null,
       "object_fit": null,
       "object_position": null,
       "order": null,
       "overflow": null,
       "overflow_x": null,
       "overflow_y": null,
       "padding": null,
       "right": null,
       "top": null,
       "visibility": null,
       "width": null
      }
     },
     "d9e9f1ead03a42b4b17ced9392ab8f87": {
      "model_module": "@jupyter-widgets/base",
      "model_module_version": "1.2.0",
      "model_name": "LayoutModel",
      "state": {
       "_model_module": "@jupyter-widgets/base",
       "_model_module_version": "1.2.0",
       "_model_name": "LayoutModel",
       "_view_count": null,
       "_view_module": "@jupyter-widgets/base",
       "_view_module_version": "1.2.0",
       "_view_name": "LayoutView",
       "align_content": null,
       "align_items": null,
       "align_self": null,
       "border": null,
       "bottom": null,
       "display": null,
       "flex": null,
       "flex_flow": null,
       "grid_area": null,
       "grid_auto_columns": null,
       "grid_auto_flow": null,
       "grid_auto_rows": null,
       "grid_column": null,
       "grid_gap": null,
       "grid_row": null,
       "grid_template_areas": null,
       "grid_template_columns": null,
       "grid_template_rows": null,
       "height": null,
       "justify_content": null,
       "justify_items": null,
       "left": null,
       "margin": null,
       "max_height": null,
       "max_width": null,
       "min_height": null,
       "min_width": null,
       "object_fit": null,
       "object_position": null,
       "order": null,
       "overflow": null,
       "overflow_x": null,
       "overflow_y": null,
       "padding": null,
       "right": null,
       "top": null,
       "visibility": null,
       "width": null
      }
     },
     "db1a55f5aada400084345a8cc60f81df": {
      "model_module": "@jupyter-widgets/controls",
      "model_module_version": "1.5.0",
      "model_name": "HBoxModel",
      "state": {
       "_dom_classes": [],
       "_model_module": "@jupyter-widgets/controls",
       "_model_module_version": "1.5.0",
       "_model_name": "HBoxModel",
       "_view_count": null,
       "_view_module": "@jupyter-widgets/controls",
       "_view_module_version": "1.5.0",
       "_view_name": "HBoxView",
       "box_style": "",
       "children": [
        "IPY_MODEL_ba722016bde6435184ba21539f6246d3",
        "IPY_MODEL_f2d33995cdc44bbbb7ca710054f903a5",
        "IPY_MODEL_a4af2aecc7a849aa93338ffc5645e7aa"
       ],
       "layout": "IPY_MODEL_671d244e94b54443bc75f3fdfaae4960"
      }
     },
     "e482607c247e495ca57bf0eb4ab8fbde": {
      "model_module": "@jupyter-widgets/base",
      "model_module_version": "1.2.0",
      "model_name": "LayoutModel",
      "state": {
       "_model_module": "@jupyter-widgets/base",
       "_model_module_version": "1.2.0",
       "_model_name": "LayoutModel",
       "_view_count": null,
       "_view_module": "@jupyter-widgets/base",
       "_view_module_version": "1.2.0",
       "_view_name": "LayoutView",
       "align_content": null,
       "align_items": null,
       "align_self": null,
       "border": null,
       "bottom": null,
       "display": null,
       "flex": null,
       "flex_flow": null,
       "grid_area": null,
       "grid_auto_columns": null,
       "grid_auto_flow": null,
       "grid_auto_rows": null,
       "grid_column": null,
       "grid_gap": null,
       "grid_row": null,
       "grid_template_areas": null,
       "grid_template_columns": null,
       "grid_template_rows": null,
       "height": null,
       "justify_content": null,
       "justify_items": null,
       "left": null,
       "margin": null,
       "max_height": null,
       "max_width": null,
       "min_height": null,
       "min_width": null,
       "object_fit": null,
       "object_position": null,
       "order": null,
       "overflow": null,
       "overflow_x": null,
       "overflow_y": null,
       "padding": null,
       "right": null,
       "top": null,
       "visibility": null,
       "width": null
      }
     },
     "f2d33995cdc44bbbb7ca710054f903a5": {
      "model_module": "@jupyter-widgets/controls",
      "model_module_version": "1.5.0",
      "model_name": "FloatProgressModel",
      "state": {
       "_dom_classes": [],
       "_model_module": "@jupyter-widgets/controls",
       "_model_module_version": "1.5.0",
       "_model_name": "FloatProgressModel",
       "_view_count": null,
       "_view_module": "@jupyter-widgets/controls",
       "_view_module_version": "1.5.0",
       "_view_name": "ProgressView",
       "bar_style": "success",
       "description": "",
       "description_tooltip": null,
       "layout": "IPY_MODEL_67ef601c7f3c4053aca19011ce598223",
       "max": 512568261,
       "min": 0,
       "orientation": "horizontal",
       "style": "IPY_MODEL_9d57cf8e28c74455a79086e0c1d1735a",
       "value": 512568261
      }
     },
     "fb83e9e4accf4621912ea1835a19ecf3": {
      "model_module": "@jupyter-widgets/controls",
      "model_module_version": "1.5.0",
      "model_name": "HTMLModel",
      "state": {
       "_dom_classes": [],
       "_model_module": "@jupyter-widgets/controls",
       "_model_module_version": "1.5.0",
       "_model_name": "HTMLModel",
       "_view_count": null,
       "_view_module": "@jupyter-widgets/controls",
       "_view_module_version": "1.5.0",
       "_view_name": "HTMLView",
       "description": "",
       "description_tooltip": null,
       "layout": "IPY_MODEL_4f59933a64bd4b32b65233de628f7bcf",
       "placeholder": "​",
       "style": "IPY_MODEL_65f192216a5b4d9ba9e59b308f6c4e85",
       "value": "Downloading: 100%"
      }
     }
    },
    "version_major": 2,
    "version_minor": 0
   }
  }
 },
 "nbformat": 4,
 "nbformat_minor": 5
}
