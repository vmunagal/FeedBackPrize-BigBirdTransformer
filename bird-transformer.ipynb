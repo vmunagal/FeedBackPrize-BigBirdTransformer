{
 "cells": [
  {
   "cell_type": "code",
   "execution_count": 1,
   "id": "2e6d21ba",
   "metadata": {
    "_cell_guid": "b1076dfc-b9ad-4769-8c92-a6c4dae69d19",
    "_uuid": "8f2839f25d086af736a60e9eeb907d3b93b6e0e5",
    "execution": {
     "iopub.execute_input": "2022-09-25T12:19:04.595980Z",
     "iopub.status.busy": "2022-09-25T12:19:04.595230Z",
     "iopub.status.idle": "2022-09-25T12:19:13.020780Z",
     "shell.execute_reply": "2022-09-25T12:19:13.019717Z"
    },
    "papermill": {
     "duration": 8.436735,
     "end_time": "2022-09-25T12:19:13.023580",
     "exception": false,
     "start_time": "2022-09-25T12:19:04.586845",
     "status": "completed"
    },
    "tags": []
   },
   "outputs": [],
   "source": [
    "from tqdm import tqdm\n",
    "import warnings \n",
    "import numpy as np\n",
    "import pandas as pd \n",
    "from torch.optim import AdamW\n",
    "import torch.nn as nn\n",
    "import torch \n",
    "import re\n",
    "import gc\n",
    "import codecs\n",
    "from transformers import AutoModelForTokenClassification , AutoConfig ,AutoTokenizer, set_seed,Trainer, TrainingArguments\n",
    "from torch.utils.data import Dataset, DataLoader\n",
    "from itertools import chain\n",
    "from text_unidecode import unidecode\n",
    "from typing import Any, Optional, Tuple\n",
    "from datasets import Dataset\n",
    "from sklearn.model_selection import train_test_split\n",
    "import pandas as pd\n",
    "import os \n",
    "os.environ[\"TOKENIZERS_PARALLELISM\"] = \"false\"\n",
    "warnings.filterwarnings('ignore')\n",
    "os.environ[\"WANDB_DISABLED\"] = \"true\"\n",
    "\n"
   ]
  },
  {
   "cell_type": "code",
   "execution_count": 2,
   "id": "4875a1b2",
   "metadata": {
    "execution": {
     "iopub.execute_input": "2022-09-25T12:19:13.035752Z",
     "iopub.status.busy": "2022-09-25T12:19:13.034821Z",
     "iopub.status.idle": "2022-09-25T12:19:13.373951Z",
     "shell.execute_reply": "2022-09-25T12:19:13.373002Z"
    },
    "papermill": {
     "duration": 0.347739,
     "end_time": "2022-09-25T12:19:13.376589",
     "exception": false,
     "start_time": "2022-09-25T12:19:13.028850",
     "status": "completed"
    },
    "tags": []
   },
   "outputs": [],
   "source": [
    "train_data=pd.read_csv('../input/feedback-prize-effectiveness/train.csv')"
   ]
  },
  {
   "cell_type": "code",
   "execution_count": 3,
   "id": "70aa2e1e",
   "metadata": {
    "execution": {
     "iopub.execute_input": "2022-09-25T12:19:13.389130Z",
     "iopub.status.busy": "2022-09-25T12:19:13.387440Z",
     "iopub.status.idle": "2022-09-25T12:19:13.393361Z",
     "shell.execute_reply": "2022-09-25T12:19:13.392408Z"
    },
    "papermill": {
     "duration": 0.013905,
     "end_time": "2022-09-25T12:19:13.395485",
     "exception": false,
     "start_time": "2022-09-25T12:19:13.381580",
     "status": "completed"
    },
    "tags": []
   },
   "outputs": [],
   "source": [
    "class Config:\n",
    "    max_length = 1024\n",
    "    model='google/bigbird-roberta-base'\n",
    "    learning_rate=9e-5\n",
    "    train_batch_size = 4\n",
    "    test_batch_size = 2 \n",
    "    num_gradient_accumlation = 2 \n",
    "    num_of_classlabels=3\n",
    "    weight_deccay=0.01\n",
    "    epochs=10\n",
    "    \n",
    "    \n",
    "    "
   ]
  },
  {
   "cell_type": "code",
   "execution_count": 4,
   "id": "44e36d9d",
   "metadata": {
    "execution": {
     "iopub.execute_input": "2022-09-25T12:19:13.406763Z",
     "iopub.status.busy": "2022-09-25T12:19:13.406056Z",
     "iopub.status.idle": "2022-09-25T12:19:13.418346Z",
     "shell.execute_reply": "2022-09-25T12:19:13.417531Z"
    },
    "papermill": {
     "duration": 0.020094,
     "end_time": "2022-09-25T12:19:13.420331",
     "exception": false,
     "start_time": "2022-09-25T12:19:13.400237",
     "status": "completed"
    },
    "tags": []
   },
   "outputs": [],
   "source": [
    "train_data['disclouse_start']=-1\n",
    "train_data['disclouse_end']=-1"
   ]
  },
  {
   "cell_type": "code",
   "execution_count": 5,
   "id": "4b5c675f",
   "metadata": {
    "execution": {
     "iopub.execute_input": "2022-09-25T12:19:13.432167Z",
     "iopub.status.busy": "2022-09-25T12:19:13.430602Z",
     "iopub.status.idle": "2022-09-25T12:19:13.513302Z",
     "shell.execute_reply": "2022-09-25T12:19:13.512435Z"
    },
    "papermill": {
     "duration": 0.090607,
     "end_time": "2022-09-25T12:19:13.515562",
     "exception": false,
     "start_time": "2022-09-25T12:19:13.424955",
     "status": "completed"
    },
    "tags": []
   },
   "outputs": [],
   "source": [
    "data=train_data.groupby(['essay_id'])['discourse_text'].apply(list)"
   ]
  },
  {
   "cell_type": "code",
   "execution_count": 6,
   "id": "0855582a",
   "metadata": {
    "execution": {
     "iopub.execute_input": "2022-09-25T12:19:13.526317Z",
     "iopub.status.busy": "2022-09-25T12:19:13.525851Z",
     "iopub.status.idle": "2022-09-25T12:19:18.994508Z",
     "shell.execute_reply": "2022-09-25T12:19:18.993445Z"
    },
    "papermill": {
     "duration": 5.476814,
     "end_time": "2022-09-25T12:19:18.997181",
     "exception": false,
     "start_time": "2022-09-25T12:19:13.520367",
     "status": "completed"
    },
    "tags": []
   },
   "outputs": [
    {
     "data": {
      "application/vnd.jupyter.widget-view+json": {
       "model_id": "daad2726744c48ab9d9976a06701fb19",
       "version_major": 2,
       "version_minor": 0
      },
      "text/plain": [
       "Downloading:   0%|          | 0.00/0.99k [00:00<?, ?B/s]"
      ]
     },
     "metadata": {},
     "output_type": "display_data"
    },
    {
     "data": {
      "application/vnd.jupyter.widget-view+json": {
       "model_id": "54bc68e07e624f5fbef33f797eb644b1",
       "version_major": 2,
       "version_minor": 0
      },
      "text/plain": [
       "Downloading:   0%|          | 0.00/760 [00:00<?, ?B/s]"
      ]
     },
     "metadata": {},
     "output_type": "display_data"
    },
    {
     "data": {
      "application/vnd.jupyter.widget-view+json": {
       "model_id": "b5ae6030a24c4e2cb6a56a7be190c24f",
       "version_major": 2,
       "version_minor": 0
      },
      "text/plain": [
       "Downloading:   0%|          | 0.00/826k [00:00<?, ?B/s]"
      ]
     },
     "metadata": {},
     "output_type": "display_data"
    },
    {
     "data": {
      "application/vnd.jupyter.widget-view+json": {
       "model_id": "ddd391b4c80d47f087c8666a4e5e4e2e",
       "version_major": 2,
       "version_minor": 0
      },
      "text/plain": [
       "Downloading:   0%|          | 0.00/775 [00:00<?, ?B/s]"
      ]
     },
     "metadata": {},
     "output_type": "display_data"
    }
   ],
   "source": [
    "tokenizer = AutoTokenizer.from_pretrained(Config.model)"
   ]
  },
  {
   "cell_type": "code",
   "execution_count": 7,
   "id": "22366f8e",
   "metadata": {
    "execution": {
     "iopub.execute_input": "2022-09-25T12:19:19.009360Z",
     "iopub.status.busy": "2022-09-25T12:19:19.008910Z",
     "iopub.status.idle": "2022-09-25T12:19:19.019412Z",
     "shell.execute_reply": "2022-09-25T12:19:19.018380Z"
    },
    "papermill": {
     "duration": 0.018706,
     "end_time": "2022-09-25T12:19:19.021541",
     "exception": false,
     "start_time": "2022-09-25T12:19:19.002835",
     "status": "completed"
    },
    "tags": []
   },
   "outputs": [
    {
     "data": {
      "text/plain": [
       "array(['Lead', 'Position', 'Claim', 'Evidence', 'Counterclaim',\n",
       "       'Rebuttal', 'Concluding Statement'], dtype=object)"
      ]
     },
     "execution_count": 7,
     "metadata": {},
     "output_type": "execute_result"
    }
   ],
   "source": [
    "train_data['discourse_type'].unique()"
   ]
  },
  {
   "cell_type": "code",
   "execution_count": 8,
   "id": "c496a7e0",
   "metadata": {
    "execution": {
     "iopub.execute_input": "2022-09-25T12:19:19.033141Z",
     "iopub.status.busy": "2022-09-25T12:19:19.032870Z",
     "iopub.status.idle": "2022-09-25T12:20:27.524052Z",
     "shell.execute_reply": "2022-09-25T12:20:27.523081Z"
    },
    "papermill": {
     "duration": 68.499902,
     "end_time": "2022-09-25T12:20:27.526543",
     "exception": false,
     "start_time": "2022-09-25T12:19:19.026641",
     "status": "completed"
    },
    "tags": []
   },
   "outputs": [],
   "source": [
    "# Below code are copied from kaggle \n",
    "def replace_encoding_with_utf8(error: UnicodeError) -> Tuple[bytes, int]:\n",
    "    return error.object[error.start : error.end].encode(\"utf-8\"), error.end\n",
    "\n",
    "\n",
    "def replace_decoding_with_cp1252(error: UnicodeError) -> Tuple[str, int]:\n",
    "    return error.object[error.start : error.end].decode(\"cp1252\"), error.end\n",
    "\n",
    "\n",
    "# Register the encoding and decoding error handlers for `utf-8` and `cp1252`.\n",
    "codecs.register_error(\"replace_encoding_with_utf8\", replace_encoding_with_utf8)\n",
    "codecs.register_error(\"replace_decoding_with_cp1252\", replace_decoding_with_cp1252)\n",
    "\n",
    "\n",
    "def resolve_encodings_and_normalize(text: str) -> str:\n",
    "    \"\"\"Resolve the encoding problems and normalize the abnormal characters.\"\"\"\n",
    "    text = (\n",
    "        text.encode(\"raw_unicode_escape\")\n",
    "        .decode(\"utf-8\", errors=\"replace_decoding_with_cp1252\")\n",
    "        .encode(\"cp1252\", errors=\"replace_encoding_with_utf8\")\n",
    "        .decode(\"utf-8\", errors=\"replace_decoding_with_cp1252\")\n",
    "    )\n",
    "    text = unidecode(text)\n",
    "    return text\n",
    "\n",
    "previous_id = ''\n",
    "for idx, input_data in  enumerate(train_data[['essay_id','discourse_text']].values):\n",
    "    # check for id \n",
    "    if previous_id != input_data[0]:\n",
    "        with open(f'../input/feedback-prize-effectiveness/train/{input_data[0]}.txt','r') as f:\n",
    "            data=f.read()\n",
    "        main_text=resolve_encodings_and_normalize(data)    \n",
    "        previous_id = input_data[0]\n",
    " \n",
    "    matches = list(re.finditer(re.escape(input_data[1].strip()), main_text))\n",
    "    \n",
    "    \n",
    "    if(len(matches)==0):\n",
    "        train_data.loc[idx,'disclouse_start']=-1\n",
    "        train_data.loc[idx,'disclouse_end']=-1\n",
    "    else:\n",
    "        # if the matches is greater than > 1 i gone pick  first match \n",
    "        match=matches[0]\n",
    "        train_data.loc[idx,'disclouse_start']=match.start()\n",
    "        train_data.loc[idx,'disclouse_end']=match.end()  "
   ]
  },
  {
   "cell_type": "code",
   "execution_count": 9,
   "id": "167c87e2",
   "metadata": {
    "execution": {
     "iopub.execute_input": "2022-09-25T12:20:27.540138Z",
     "iopub.status.busy": "2022-09-25T12:20:27.538688Z",
     "iopub.status.idle": "2022-09-25T12:20:27.547872Z",
     "shell.execute_reply": "2022-09-25T12:20:27.547022Z"
    },
    "papermill": {
     "duration": 0.017664,
     "end_time": "2022-09-25T12:20:27.549957",
     "exception": false,
     "start_time": "2022-09-25T12:20:27.532293",
     "status": "completed"
    },
    "tags": []
   },
   "outputs": [],
   "source": [
    "# Lets create a map for disclouser_type \n",
    "\n",
    "disclouser_types=['Lead',\n",
    "                  'Position', \n",
    "                  'Claim', \n",
    "                  'Evidence', \n",
    "                  'Counterclaim',\n",
    "                   'Rebuttal',\n",
    "                   'Concluding Statement']\n",
    "# Create token_ids for above disclouser types \n",
    "start_tokens = { x: f\"[CLS_{x.upper()}]\" for x in disclouser_types}\n",
    "end_tokens =   { x: f\"[SEP_{x.upper()}]\"  for x in disclouser_types}"
   ]
  },
  {
   "cell_type": "code",
   "execution_count": 10,
   "id": "ba757b73",
   "metadata": {
    "execution": {
     "iopub.execute_input": "2022-09-25T12:20:27.562567Z",
     "iopub.status.busy": "2022-09-25T12:20:27.562301Z",
     "iopub.status.idle": "2022-09-25T12:20:31.107191Z",
     "shell.execute_reply": "2022-09-25T12:20:31.106112Z"
    },
    "papermill": {
     "duration": 3.55417,
     "end_time": "2022-09-25T12:20:31.109441",
     "exception": false,
     "start_time": "2022-09-25T12:20:27.555271",
     "status": "completed"
    },
    "tags": []
   },
   "outputs": [
    {
     "data": {
      "text/plain": [
       "14"
      ]
     },
     "execution_count": 10,
     "metadata": {},
     "output_type": "execute_result"
    }
   ],
   "source": [
    "# lets add new tokens to the tokenizer \n",
    "tokenizer=AutoTokenizer.from_pretrained(Config.model)\n",
    "tokenizer.add_special_tokens({\"additional_special_tokens\": list(start_tokens.values())+list(end_tokens.values())})"
   ]
  },
  {
   "cell_type": "code",
   "execution_count": 11,
   "id": "42285188",
   "metadata": {
    "execution": {
     "iopub.execute_input": "2022-09-25T12:20:31.123223Z",
     "iopub.status.busy": "2022-09-25T12:20:31.121760Z",
     "iopub.status.idle": "2022-09-25T12:20:31.131211Z",
     "shell.execute_reply": "2022-09-25T12:20:31.130205Z"
    },
    "papermill": {
     "duration": 0.017875,
     "end_time": "2022-09-25T12:20:31.133309",
     "exception": false,
     "start_time": "2022-09-25T12:20:31.115434",
     "status": "completed"
    },
    "tags": []
   },
   "outputs": [
    {
     "data": {
      "text/plain": [
       "array(['Adequate', 'Ineffective', 'Effective'], dtype=object)"
      ]
     },
     "execution_count": 11,
     "metadata": {},
     "output_type": "execute_result"
    }
   ],
   "source": [
    "train_data['discourse_effectiveness'].unique()"
   ]
  },
  {
   "cell_type": "code",
   "execution_count": 12,
   "id": "20415858",
   "metadata": {
    "execution": {
     "iopub.execute_input": "2022-09-25T12:20:31.145405Z",
     "iopub.status.busy": "2022-09-25T12:20:31.145116Z",
     "iopub.status.idle": "2022-09-25T12:20:31.151776Z",
     "shell.execute_reply": "2022-09-25T12:20:31.150980Z"
    },
    "papermill": {
     "duration": 0.014757,
     "end_time": "2022-09-25T12:20:31.153707",
     "exception": false,
     "start_time": "2022-09-25T12:20:31.138950",
     "status": "completed"
    },
    "tags": []
   },
   "outputs": [],
   "source": [
    "# Lets convert class labels to ids & ids to class lable reason behing it was during inferene time instead of 0,1,2 we gone get actual class value \n",
    "lable2id={\n",
    "    \"Adequate\":0,\n",
    "    \"Ineffective\":1,\n",
    "    \"Effective\":2\n",
    "    \n",
    "}\n",
    "id2label = {V:K for K ,V in lable2id.items()}\n",
    "\n",
    "# And Map actual token_id with label \n",
    "\n",
    "label_token_map ={\n",
    "    K:tokenizer.encode(V)[1] for K ,V in start_tokens.items()\n",
    "}"
   ]
  },
  {
   "cell_type": "code",
   "execution_count": 13,
   "id": "c1c2cb45",
   "metadata": {
    "execution": {
     "iopub.execute_input": "2022-09-25T12:20:31.166112Z",
     "iopub.status.busy": "2022-09-25T12:20:31.165862Z",
     "iopub.status.idle": "2022-09-25T12:21:14.094541Z",
     "shell.execute_reply": "2022-09-25T12:21:14.093547Z"
    },
    "papermill": {
     "duration": 42.937398,
     "end_time": "2022-09-25T12:21:14.097026",
     "exception": false,
     "start_time": "2022-09-25T12:20:31.159628",
     "status": "completed"
    },
    "tags": []
   },
   "outputs": [],
   "source": [
    "# Lets add CLS_disclouser_type & END_Disclouser_type to the complete essay string\n",
    "previous_id = ''\n",
    "data_chunks =[]\n",
    "token_ids_chunks = []\n",
    "data_chunks_dict ={}\n",
    "for essay_id , start , end , dis_type in  zip(train_data['essay_id'],train_data['disclouse_start'],train_data['disclouse_end'],train_data['discourse_type']):\n",
    "    # check for id \n",
    "    \n",
    "    if previous_id != essay_id:\n",
    "        with open(f'../input/feedback-prize-effectiveness/train/{essay_id}.txt','r') as f:\n",
    "            data=f.read()\n",
    "        main_text=resolve_encodings_and_normalize(data)  \n",
    "        \n",
    "    if int(start) == -1 & int(end) == -1:\n",
    "        continue \n",
    " \n",
    "    if essay_id not in data_chunks_dict:\n",
    "        data_chunks_dict[essay_id]=[]\n",
    "        data_chunks_dict[essay_id].append(start_tokens[dis_type])\n",
    "        data_chunks_dict[essay_id].append(data[start:end])\n",
    "        data_chunks_dict[essay_id].append(end_tokens[dis_type])\n",
    "    else:\n",
    "        data_chunks_dict[essay_id].append(start_tokens[dis_type])\n",
    "        data_chunks_dict[essay_id].append(data[start:end])\n",
    "        data_chunks_dict[essay_id].append(end_tokens[dis_type])\n",
    "       \n",
    "    "
   ]
  },
  {
   "cell_type": "code",
   "execution_count": 14,
   "id": "f847baf3",
   "metadata": {
    "execution": {
     "iopub.execute_input": "2022-09-25T12:21:14.110389Z",
     "iopub.status.busy": "2022-09-25T12:21:14.109566Z",
     "iopub.status.idle": "2022-09-25T12:21:14.195810Z",
     "shell.execute_reply": "2022-09-25T12:21:14.194557Z"
    },
    "papermill": {
     "duration": 0.095692,
     "end_time": "2022-09-25T12:21:14.198781",
     "exception": false,
     "start_time": "2022-09-25T12:21:14.103089",
     "status": "completed"
    },
    "tags": []
   },
   "outputs": [],
   "source": [
    "train_data.loc[:,'labelids']=train_data['discourse_effectiveness'].map(lable2id)\n",
    "label_output = train_data.groupby(['essay_id'])['labelids'].apply(list)"
   ]
  },
  {
   "cell_type": "code",
   "execution_count": 15,
   "id": "1d36f7b4",
   "metadata": {
    "execution": {
     "iopub.execute_input": "2022-09-25T12:21:14.211169Z",
     "iopub.status.busy": "2022-09-25T12:21:14.210871Z",
     "iopub.status.idle": "2022-09-25T12:21:21.945077Z",
     "shell.execute_reply": "2022-09-25T12:21:21.944106Z"
    },
    "papermill": {
     "duration": 7.743197,
     "end_time": "2022-09-25T12:21:21.947647",
     "exception": false,
     "start_time": "2022-09-25T12:21:14.204450",
     "status": "completed"
    },
    "tags": []
   },
   "outputs": [],
   "source": [
    "# create a dataset using labels & text data \n",
    "tokenized_data=[]\n",
    "labels=[]\n",
    "for K ,V in data_chunks_dict.items():\n",
    "    tokenized = tokenizer(''.join(V),max_length=Config.max_length,padding='max_length',truncation=True)\n",
    "#     tokenized_data.append(tokenized)\n",
    "    # lets iterate over tokens \n",
    "    label=[] \n",
    "    idx=0\n",
    "    for _id in tokenized['input_ids']:\n",
    "        if _id in label_token_map.values():\n",
    "            label.append(label_output[K][idx])\n",
    "            idx+=1\n",
    "        else:\n",
    "            # Cross entropy will be ignored when -100 \n",
    "            label.append(-100)\n",
    "            \n",
    "    tokenized['label']=label\n",
    "    tokenized_data.append(tokenized)"
   ]
  },
  {
   "cell_type": "code",
   "execution_count": 16,
   "id": "62908d2a",
   "metadata": {
    "execution": {
     "iopub.execute_input": "2022-09-25T12:21:21.960710Z",
     "iopub.status.busy": "2022-09-25T12:21:21.960410Z",
     "iopub.status.idle": "2022-09-25T12:21:21.969692Z",
     "shell.execute_reply": "2022-09-25T12:21:21.968831Z"
    },
    "papermill": {
     "duration": 0.017919,
     "end_time": "2022-09-25T12:21:21.971625",
     "exception": false,
     "start_time": "2022-09-25T12:21:21.953706",
     "status": "completed"
    },
    "tags": []
   },
   "outputs": [
    {
     "data": {
      "text/plain": [
       "[0, 0, 0, 0, 0, 1, 0, 0, 0]"
      ]
     },
     "execution_count": 16,
     "metadata": {},
     "output_type": "execute_result"
    }
   ],
   "source": [
    "[x  for x in tokenized_data[0]['label'] if x in [0,1,2]]"
   ]
  },
  {
   "cell_type": "code",
   "execution_count": 17,
   "id": "672a4010",
   "metadata": {
    "execution": {
     "iopub.execute_input": "2022-09-25T12:21:21.984533Z",
     "iopub.status.busy": "2022-09-25T12:21:21.983861Z",
     "iopub.status.idle": "2022-09-25T12:21:21.990257Z",
     "shell.execute_reply": "2022-09-25T12:21:21.989356Z"
    },
    "papermill": {
     "duration": 0.0149,
     "end_time": "2022-09-25T12:21:21.992282",
     "exception": false,
     "start_time": "2022-09-25T12:21:21.977382",
     "status": "completed"
    },
    "tags": []
   },
   "outputs": [
    {
     "data": {
      "text/plain": [
       "[0, 0, 0, 0, 0, 1, 0, 0, 0]"
      ]
     },
     "execution_count": 17,
     "metadata": {},
     "output_type": "execute_result"
    }
   ],
   "source": [
    "# did the santy check to make sure the labels are correct \n",
    "label_output['007ACE74B050']"
   ]
  },
  {
   "cell_type": "code",
   "execution_count": 18,
   "id": "ecc0bd72",
   "metadata": {
    "execution": {
     "iopub.execute_input": "2022-09-25T12:21:22.004763Z",
     "iopub.status.busy": "2022-09-25T12:21:22.004516Z",
     "iopub.status.idle": "2022-09-25T12:21:22.835456Z",
     "shell.execute_reply": "2022-09-25T12:21:22.834509Z"
    },
    "papermill": {
     "duration": 0.839849,
     "end_time": "2022-09-25T12:21:22.837840",
     "exception": false,
     "start_time": "2022-09-25T12:21:21.997991",
     "status": "completed"
    },
    "tags": []
   },
   "outputs": [],
   "source": [
    "# Lets convert list of dict input_ids ,attention_mask , labels to Dataset \n",
    "df = pd.DataFrame(tokenized_data)\n",
    "\n",
    "X_train , X_eval = train_test_split(df,test_size=0.2,random_state=42,shuffle=True)\n",
    "\n",
    "# Convert to dataset \n",
    "train_dataset = Dataset.from_pandas(X_train) # train data set \n",
    "eval_dataset = Dataset.from_pandas(X_eval)"
   ]
  },
  {
   "cell_type": "code",
   "execution_count": 19,
   "id": "f6a64f79",
   "metadata": {
    "execution": {
     "iopub.execute_input": "2022-09-25T12:21:22.850987Z",
     "iopub.status.busy": "2022-09-25T12:21:22.850186Z",
     "iopub.status.idle": "2022-09-25T12:21:23.811616Z",
     "shell.execute_reply": "2022-09-25T12:21:23.810162Z"
    },
    "papermill": {
     "duration": 0.970754,
     "end_time": "2022-09-25T12:21:23.814410",
     "exception": false,
     "start_time": "2022-09-25T12:21:22.843656",
     "status": "completed"
    },
    "tags": []
   },
   "outputs": [],
   "source": [
    "! mkdir output_model"
   ]
  },
  {
   "cell_type": "code",
   "execution_count": 20,
   "id": "8cc109d5",
   "metadata": {
    "execution": {
     "iopub.execute_input": "2022-09-25T12:21:23.830685Z",
     "iopub.status.busy": "2022-09-25T12:21:23.828810Z",
     "iopub.status.idle": "2022-09-25T12:21:23.905742Z",
     "shell.execute_reply": "2022-09-25T12:21:23.904648Z"
    },
    "papermill": {
     "duration": 0.086611,
     "end_time": "2022-09-25T12:21:23.907681",
     "exception": false,
     "start_time": "2022-09-25T12:21:23.821070",
     "status": "completed"
    },
    "tags": []
   },
   "outputs": [
    {
     "name": "stderr",
     "output_type": "stream",
     "text": [
      "Using the `WAND_DISABLED` environment variable is deprecated and will be removed in v5. Use the --report_to flag to control the integrations used for logging result (for instance --report_to none).\n"
     ]
    }
   ],
   "source": [
    "# Model trainarguments & trainer \n",
    "args = TrainingArguments(\n",
    "       output_dir ='/output',\n",
    "       do_train=False,\n",
    "       do_eval=True,\n",
    "       per_device_train_batch_size = Config.train_batch_size,\n",
    "       per_device_eval_batch_size=Config.test_batch_size,\n",
    "       gradient_accumulation_steps=Config.num_gradient_accumlation, # acuumulate  batches before the update \n",
    "       num_train_epochs=Config.epochs,\n",
    "       learning_rate = Config.learning_rate,\n",
    "       weight_decay =Config.weight_deccay, # its nothing but lambda parameter for regualrizer\n",
    "       metric_for_best_model= 'loss',\n",
    "       optim='adamw_torch', # use adam optinmizer \n",
    "       evaluation_strategy='epoch',\n",
    "       logging_strategy='steps',\n",
    "       logging_steps=50\n",
    ")"
   ]
  },
  {
   "cell_type": "code",
   "execution_count": 21,
   "id": "ad7bcb80",
   "metadata": {
    "execution": {
     "iopub.execute_input": "2022-09-25T12:21:23.920732Z",
     "iopub.status.busy": "2022-09-25T12:21:23.919948Z",
     "iopub.status.idle": "2022-09-25T12:21:38.286051Z",
     "shell.execute_reply": "2022-09-25T12:21:38.285098Z"
    },
    "papermill": {
     "duration": 14.374555,
     "end_time": "2022-09-25T12:21:38.288059",
     "exception": false,
     "start_time": "2022-09-25T12:21:23.913504",
     "status": "completed"
    },
    "tags": []
   },
   "outputs": [
    {
     "data": {
      "application/vnd.jupyter.widget-view+json": {
       "model_id": "a030b0653427459e9f191a74fd5a2562",
       "version_major": 2,
       "version_minor": 0
      },
      "text/plain": [
       "Downloading:   0%|          | 0.00/489M [00:00<?, ?B/s]"
      ]
     },
     "metadata": {},
     "output_type": "display_data"
    },
    {
     "name": "stderr",
     "output_type": "stream",
     "text": [
      "Some weights of the model checkpoint at google/bigbird-roberta-base were not used when initializing BigBirdForTokenClassification: ['cls.predictions.bias', 'cls.predictions.transform.LayerNorm.bias', 'cls.predictions.transform.dense.bias', 'cls.predictions.decoder.weight', 'cls.predictions.decoder.bias', 'cls.predictions.transform.dense.weight', 'cls.predictions.transform.LayerNorm.weight', 'cls.seq_relationship.bias', 'cls.seq_relationship.weight']\n",
      "- This IS expected if you are initializing BigBirdForTokenClassification from the checkpoint of a model trained on another task or with another architecture (e.g. initializing a BertForSequenceClassification model from a BertForPreTraining model).\n",
      "- This IS NOT expected if you are initializing BigBirdForTokenClassification from the checkpoint of a model that you expect to be exactly identical (initializing a BertForSequenceClassification model from a BertForSequenceClassification model).\n",
      "Some weights of BigBirdForTokenClassification were not initialized from the model checkpoint at google/bigbird-roberta-base and are newly initialized: ['classifier.bias', 'classifier.weight']\n",
      "You should probably TRAIN this model on a down-stream task to be able to use it for predictions and inference.\n"
     ]
    },
    {
     "data": {
      "text/plain": [
       "Embedding(50372, 768)"
      ]
     },
     "execution_count": 21,
     "metadata": {},
     "output_type": "execute_result"
    }
   ],
   "source": [
    "# Build the Model \n",
    "model_config = AutoConfig.from_pretrained(\n",
    "            Config.model,\n",
    "        )\n",
    "model_config.update(\n",
    "        {\n",
    "            \"num_labels\": 3,\n",
    "            \"cls_tokens\": list(label_token_map.values()), \n",
    "            \"lable2id\": lable2id, # reason of usinf label2id  and opposite is during inference instead of value as o or 1 we can get actual valiue of the class\n",
    "            \"id2label\": id2label,\n",
    "            \"attention_type\":'original_full' # if the tokens count is less than 1024 use original it would be o(n**2) attention\n",
    "        }\n",
    ")\n",
    "    \n",
    "model = AutoModelForTokenClassification.from_pretrained(Config.model, config=model_config)\n",
    "    \n",
    "    # Because tokens were added, it is important to resize the embeddings\n",
    "model.resize_token_embeddings(len(tokenizer)) \n"
   ]
  },
  {
   "cell_type": "code",
   "execution_count": 22,
   "id": "84395921",
   "metadata": {
    "execution": {
     "iopub.execute_input": "2022-09-25T12:21:38.302095Z",
     "iopub.status.busy": "2022-09-25T12:21:38.301282Z",
     "iopub.status.idle": "2022-09-25T13:47:59.243315Z",
     "shell.execute_reply": "2022-09-25T13:47:59.242176Z"
    },
    "papermill": {
     "duration": 5180.95114,
     "end_time": "2022-09-25T13:47:59.245485",
     "exception": false,
     "start_time": "2022-09-25T12:21:38.294345",
     "status": "completed"
    },
    "tags": []
   },
   "outputs": [
    {
     "name": "stderr",
     "output_type": "stream",
     "text": [
      "The following columns in the training set don't have a corresponding argument in `BigBirdForTokenClassification.forward` and have been ignored: __index_level_0__. If __index_level_0__ are not expected by `BigBirdForTokenClassification.forward`,  you can safely ignore this message.\n",
      "***** Running training *****\n",
      "  Num examples = 3340\n",
      "  Num Epochs = 10\n",
      "  Instantaneous batch size per device = 4\n",
      "  Total train batch size (w. parallel, distributed & accumulation) = 8\n",
      "  Gradient Accumulation steps = 2\n",
      "  Total optimization steps = 4170\n"
     ]
    },
    {
     "data": {
      "text/html": [
       "\n",
       "    <div>\n",
       "      \n",
       "      <progress value='4170' max='4170' style='width:300px; height:20px; vertical-align: middle;'></progress>\n",
       "      [4170/4170 1:26:13, Epoch 9/10]\n",
       "    </div>\n",
       "    <table border=\"1\" class=\"dataframe\">\n",
       "  <thead>\n",
       " <tr style=\"text-align: left;\">\n",
       "      <th>Epoch</th>\n",
       "      <th>Training Loss</th>\n",
       "      <th>Validation Loss</th>\n",
       "    </tr>\n",
       "  </thead>\n",
       "  <tbody>\n",
       "    <tr>\n",
       "      <td>0</td>\n",
       "      <td>0.840700</td>\n",
       "      <td>0.906655</td>\n",
       "    </tr>\n",
       "    <tr>\n",
       "      <td>1</td>\n",
       "      <td>0.851100</td>\n",
       "      <td>0.797811</td>\n",
       "    </tr>\n",
       "    <tr>\n",
       "      <td>2</td>\n",
       "      <td>0.775700</td>\n",
       "      <td>0.818043</td>\n",
       "    </tr>\n",
       "    <tr>\n",
       "      <td>3</td>\n",
       "      <td>0.708900</td>\n",
       "      <td>0.752903</td>\n",
       "    </tr>\n",
       "    <tr>\n",
       "      <td>4</td>\n",
       "      <td>0.691600</td>\n",
       "      <td>0.739590</td>\n",
       "    </tr>\n",
       "    <tr>\n",
       "      <td>5</td>\n",
       "      <td>0.647600</td>\n",
       "      <td>0.743280</td>\n",
       "    </tr>\n",
       "    <tr>\n",
       "      <td>6</td>\n",
       "      <td>0.571900</td>\n",
       "      <td>0.768171</td>\n",
       "    </tr>\n",
       "    <tr>\n",
       "      <td>7</td>\n",
       "      <td>0.536500</td>\n",
       "      <td>0.810903</td>\n",
       "    </tr>\n",
       "    <tr>\n",
       "      <td>8</td>\n",
       "      <td>0.493200</td>\n",
       "      <td>0.830027</td>\n",
       "    </tr>\n",
       "    <tr>\n",
       "      <td>9</td>\n",
       "      <td>0.466900</td>\n",
       "      <td>0.872341</td>\n",
       "    </tr>\n",
       "  </tbody>\n",
       "</table><p>"
      ],
      "text/plain": [
       "<IPython.core.display.HTML object>"
      ]
     },
     "metadata": {},
     "output_type": "display_data"
    },
    {
     "name": "stderr",
     "output_type": "stream",
     "text": [
      "The following columns in the evaluation set don't have a corresponding argument in `BigBirdForTokenClassification.forward` and have been ignored: __index_level_0__. If __index_level_0__ are not expected by `BigBirdForTokenClassification.forward`,  you can safely ignore this message.\n",
      "***** Running Evaluation *****\n",
      "  Num examples = 835\n",
      "  Batch size = 2\n",
      "Saving model checkpoint to /output/checkpoint-500\n",
      "Configuration saved in /output/checkpoint-500/config.json\n",
      "Model weights saved in /output/checkpoint-500/pytorch_model.bin\n",
      "tokenizer config file saved in /output/checkpoint-500/tokenizer_config.json\n",
      "Special tokens file saved in /output/checkpoint-500/special_tokens_map.json\n",
      "The following columns in the evaluation set don't have a corresponding argument in `BigBirdForTokenClassification.forward` and have been ignored: __index_level_0__. If __index_level_0__ are not expected by `BigBirdForTokenClassification.forward`,  you can safely ignore this message.\n",
      "***** Running Evaluation *****\n",
      "  Num examples = 835\n",
      "  Batch size = 2\n",
      "Saving model checkpoint to /output/checkpoint-1000\n",
      "Configuration saved in /output/checkpoint-1000/config.json\n",
      "Model weights saved in /output/checkpoint-1000/pytorch_model.bin\n",
      "tokenizer config file saved in /output/checkpoint-1000/tokenizer_config.json\n",
      "Special tokens file saved in /output/checkpoint-1000/special_tokens_map.json\n",
      "The following columns in the evaluation set don't have a corresponding argument in `BigBirdForTokenClassification.forward` and have been ignored: __index_level_0__. If __index_level_0__ are not expected by `BigBirdForTokenClassification.forward`,  you can safely ignore this message.\n",
      "***** Running Evaluation *****\n",
      "  Num examples = 835\n",
      "  Batch size = 2\n",
      "Saving model checkpoint to /output/checkpoint-1500\n",
      "Configuration saved in /output/checkpoint-1500/config.json\n",
      "Model weights saved in /output/checkpoint-1500/pytorch_model.bin\n",
      "tokenizer config file saved in /output/checkpoint-1500/tokenizer_config.json\n",
      "Special tokens file saved in /output/checkpoint-1500/special_tokens_map.json\n",
      "The following columns in the evaluation set don't have a corresponding argument in `BigBirdForTokenClassification.forward` and have been ignored: __index_level_0__. If __index_level_0__ are not expected by `BigBirdForTokenClassification.forward`,  you can safely ignore this message.\n",
      "***** Running Evaluation *****\n",
      "  Num examples = 835\n",
      "  Batch size = 2\n",
      "Saving model checkpoint to /output/checkpoint-2000\n",
      "Configuration saved in /output/checkpoint-2000/config.json\n",
      "Model weights saved in /output/checkpoint-2000/pytorch_model.bin\n",
      "tokenizer config file saved in /output/checkpoint-2000/tokenizer_config.json\n",
      "Special tokens file saved in /output/checkpoint-2000/special_tokens_map.json\n",
      "The following columns in the evaluation set don't have a corresponding argument in `BigBirdForTokenClassification.forward` and have been ignored: __index_level_0__. If __index_level_0__ are not expected by `BigBirdForTokenClassification.forward`,  you can safely ignore this message.\n",
      "***** Running Evaluation *****\n",
      "  Num examples = 835\n",
      "  Batch size = 2\n",
      "Saving model checkpoint to /output/checkpoint-2500\n",
      "Configuration saved in /output/checkpoint-2500/config.json\n",
      "Model weights saved in /output/checkpoint-2500/pytorch_model.bin\n",
      "tokenizer config file saved in /output/checkpoint-2500/tokenizer_config.json\n",
      "Special tokens file saved in /output/checkpoint-2500/special_tokens_map.json\n",
      "The following columns in the evaluation set don't have a corresponding argument in `BigBirdForTokenClassification.forward` and have been ignored: __index_level_0__. If __index_level_0__ are not expected by `BigBirdForTokenClassification.forward`,  you can safely ignore this message.\n",
      "***** Running Evaluation *****\n",
      "  Num examples = 835\n",
      "  Batch size = 2\n",
      "The following columns in the evaluation set don't have a corresponding argument in `BigBirdForTokenClassification.forward` and have been ignored: __index_level_0__. If __index_level_0__ are not expected by `BigBirdForTokenClassification.forward`,  you can safely ignore this message.\n",
      "***** Running Evaluation *****\n",
      "  Num examples = 835\n",
      "  Batch size = 2\n",
      "Saving model checkpoint to /output/checkpoint-3000\n",
      "Configuration saved in /output/checkpoint-3000/config.json\n",
      "Model weights saved in /output/checkpoint-3000/pytorch_model.bin\n",
      "tokenizer config file saved in /output/checkpoint-3000/tokenizer_config.json\n",
      "Special tokens file saved in /output/checkpoint-3000/special_tokens_map.json\n",
      "The following columns in the evaluation set don't have a corresponding argument in `BigBirdForTokenClassification.forward` and have been ignored: __index_level_0__. If __index_level_0__ are not expected by `BigBirdForTokenClassification.forward`,  you can safely ignore this message.\n",
      "***** Running Evaluation *****\n",
      "  Num examples = 835\n",
      "  Batch size = 2\n",
      "Saving model checkpoint to /output/checkpoint-3500\n",
      "Configuration saved in /output/checkpoint-3500/config.json\n",
      "Model weights saved in /output/checkpoint-3500/pytorch_model.bin\n",
      "tokenizer config file saved in /output/checkpoint-3500/tokenizer_config.json\n",
      "Special tokens file saved in /output/checkpoint-3500/special_tokens_map.json\n",
      "The following columns in the evaluation set don't have a corresponding argument in `BigBirdForTokenClassification.forward` and have been ignored: __index_level_0__. If __index_level_0__ are not expected by `BigBirdForTokenClassification.forward`,  you can safely ignore this message.\n",
      "***** Running Evaluation *****\n",
      "  Num examples = 835\n",
      "  Batch size = 2\n",
      "Saving model checkpoint to /output/checkpoint-4000\n",
      "Configuration saved in /output/checkpoint-4000/config.json\n",
      "Model weights saved in /output/checkpoint-4000/pytorch_model.bin\n",
      "tokenizer config file saved in /output/checkpoint-4000/tokenizer_config.json\n",
      "Special tokens file saved in /output/checkpoint-4000/special_tokens_map.json\n",
      "The following columns in the evaluation set don't have a corresponding argument in `BigBirdForTokenClassification.forward` and have been ignored: __index_level_0__. If __index_level_0__ are not expected by `BigBirdForTokenClassification.forward`,  you can safely ignore this message.\n",
      "***** Running Evaluation *****\n",
      "  Num examples = 835\n",
      "  Batch size = 2\n",
      "\n",
      "\n",
      "Training completed. Do not forget to share your model on huggingface.co/models =)\n",
      "\n",
      "\n"
     ]
    }
   ],
   "source": [
    "trainer = Trainer(\n",
    "        model=model,\n",
    "        args=args,\n",
    "        train_dataset=train_dataset,\n",
    "        eval_dataset=eval_dataset,\n",
    "        tokenizer=tokenizer\n",
    "    )\n",
    "trainer.train()\n",
    "    \n",
    "del model\n",
    "gc.collect()\n",
    "torch.cuda.empty_cache()\n",
    "    "
   ]
  }
 ],
 "metadata": {
  "kernelspec": {
   "display_name": "Python 3",
   "language": "python",
   "name": "python3"
  },
  "language_info": {
   "codemirror_mode": {
    "name": "ipython",
    "version": 3
   },
   "file_extension": ".py",
   "mimetype": "text/x-python",
   "name": "python",
   "nbconvert_exporter": "python",
   "pygments_lexer": "ipython3",
   "version": "3.7.12"
  },
  "papermill": {
   "default_parameters": {},
   "duration": 5345.50947,
   "end_time": "2022-09-25T13:48:02.332504",
   "environment_variables": {},
   "exception": null,
   "input_path": "__notebook__.ipynb",
   "output_path": "__notebook__.ipynb",
   "parameters": {},
   "start_time": "2022-09-25T12:18:56.823034",
   "version": "2.3.4"
  },
  "widgets": {
   "application/vnd.jupyter.widget-state+json": {
    "state": {
     "003c696ca1884a8d86c4b796dc6c4757": {
      "model_module": "@jupyter-widgets/controls",
      "model_module_version": "1.5.0",
      "model_name": "FloatProgressModel",
      "state": {
       "_dom_classes": [],
       "_model_module": "@jupyter-widgets/controls",
       "_model_module_version": "1.5.0",
       "_model_name": "FloatProgressModel",
       "_view_count": null,
       "_view_module": "@jupyter-widgets/controls",
       "_view_module_version": "1.5.0",
       "_view_name": "ProgressView",
       "bar_style": "success",
       "description": "",
       "description_tooltip": null,
       "layout": "IPY_MODEL_69398142fb3f48ef955a2d624af81e26",
       "max": 512568261.0,
       "min": 0.0,
       "orientation": "horizontal",
       "style": "IPY_MODEL_56de23a3b70e4040b7fe0d530aa43f3f",
       "value": 512568261.0
      }
     },
     "00fb8bdf264f40f099724d44e05dbb23": {
      "model_module": "@jupyter-widgets/controls",
      "model_module_version": "1.5.0",
      "model_name": "HTMLModel",
      "state": {
       "_dom_classes": [],
       "_model_module": "@jupyter-widgets/controls",
       "_model_module_version": "1.5.0",
       "_model_name": "HTMLModel",
       "_view_count": null,
       "_view_module": "@jupyter-widgets/controls",
       "_view_module_version": "1.5.0",
       "_view_name": "HTMLView",
       "description": "",
       "description_tooltip": null,
       "layout": "IPY_MODEL_08914a216c334a4b8e4171f5588358e9",
       "placeholder": "​",
       "style": "IPY_MODEL_45f3c0369595426e824a29bd552b41ff",
       "value": "Downloading: 100%"
      }
     },
     "057f778591914613aa7c40382f816ce9": {
      "model_module": "@jupyter-widgets/base",
      "model_module_version": "1.2.0",
      "model_name": "LayoutModel",
      "state": {
       "_model_module": "@jupyter-widgets/base",
       "_model_module_version": "1.2.0",
       "_model_name": "LayoutModel",
       "_view_count": null,
       "_view_module": "@jupyter-widgets/base",
       "_view_module_version": "1.2.0",
       "_view_name": "LayoutView",
       "align_content": null,
       "align_items": null,
       "align_self": null,
       "border": null,
       "bottom": null,
       "display": null,
       "flex": null,
       "flex_flow": null,
       "grid_area": null,
       "grid_auto_columns": null,
       "grid_auto_flow": null,
       "grid_auto_rows": null,
       "grid_column": null,
       "grid_gap": null,
       "grid_row": null,
       "grid_template_areas": null,
       "grid_template_columns": null,
       "grid_template_rows": null,
       "height": null,
       "justify_content": null,
       "justify_items": null,
       "left": null,
       "margin": null,
       "max_height": null,
       "max_width": null,
       "min_height": null,
       "min_width": null,
       "object_fit": null,
       "object_position": null,
       "order": null,
       "overflow": null,
       "overflow_x": null,
       "overflow_y": null,
       "padding": null,
       "right": null,
       "top": null,
       "visibility": null,
       "width": null
      }
     },
     "07b2fa9b3b7b4ef1a96ee08555c7c4fb": {
      "model_module": "@jupyter-widgets/controls",
      "model_module_version": "1.5.0",
      "model_name": "FloatProgressModel",
      "state": {
       "_dom_classes": [],
       "_model_module": "@jupyter-widgets/controls",
       "_model_module_version": "1.5.0",
       "_model_name": "FloatProgressModel",
       "_view_count": null,
       "_view_module": "@jupyter-widgets/controls",
       "_view_module_version": "1.5.0",
       "_view_name": "ProgressView",
       "bar_style": "success",
       "description": "",
       "description_tooltip": null,
       "layout": "IPY_MODEL_64d3a3832f304c088a7a807c25648002",
       "max": 845731.0,
       "min": 0.0,
       "orientation": "horizontal",
       "style": "IPY_MODEL_54991b10a6fa470aba57e73973f69c0d",
       "value": 845731.0
      }
     },
     "08914a216c334a4b8e4171f5588358e9": {
      "model_module": "@jupyter-widgets/base",
      "model_module_version": "1.2.0",
      "model_name": "LayoutModel",
      "state": {
       "_model_module": "@jupyter-widgets/base",
       "_model_module_version": "1.2.0",
       "_model_name": "LayoutModel",
       "_view_count": null,
       "_view_module": "@jupyter-widgets/base",
       "_view_module_version": "1.2.0",
       "_view_name": "LayoutView",
       "align_content": null,
       "align_items": null,
       "align_self": null,
       "border": null,
       "bottom": null,
       "display": null,
       "flex": null,
       "flex_flow": null,
       "grid_area": null,
       "grid_auto_columns": null,
       "grid_auto_flow": null,
       "grid_auto_rows": null,
       "grid_column": null,
       "grid_gap": null,
       "grid_row": null,
       "grid_template_areas": null,
       "grid_template_columns": null,
       "grid_template_rows": null,
       "height": null,
       "justify_content": null,
       "justify_items": null,
       "left": null,
       "margin": null,
       "max_height": null,
       "max_width": null,
       "min_height": null,
       "min_width": null,
       "object_fit": null,
       "object_position": null,
       "order": null,
       "overflow": null,
       "overflow_x": null,
       "overflow_y": null,
       "padding": null,
       "right": null,
       "top": null,
       "visibility": null,
       "width": null
      }
     },
     "093c4d787a0147208d112b40391e2a79": {
      "model_module": "@jupyter-widgets/controls",
      "model_module_version": "1.5.0",
      "model_name": "HTMLModel",
      "state": {
       "_dom_classes": [],
       "_model_module": "@jupyter-widgets/controls",
       "_model_module_version": "1.5.0",
       "_model_name": "HTMLModel",
       "_view_count": null,
       "_view_module": "@jupyter-widgets/controls",
       "_view_module_version": "1.5.0",
       "_view_name": "HTMLView",
       "description": "",
       "description_tooltip": null,
       "layout": "IPY_MODEL_157d40e556c042e09a615d089d3f5b56",
       "placeholder": "​",
       "style": "IPY_MODEL_3b62a0df0d0e4f04883f83bfd0c7189f",
       "value": "Downloading: 100%"
      }
     },
     "0aeedc066d9149d087e3b600e5b7ad94": {
      "model_module": "@jupyter-widgets/base",
      "model_module_version": "1.2.0",
      "model_name": "LayoutModel",
      "state": {
       "_model_module": "@jupyter-widgets/base",
       "_model_module_version": "1.2.0",
       "_model_name": "LayoutModel",
       "_view_count": null,
       "_view_module": "@jupyter-widgets/base",
       "_view_module_version": "1.2.0",
       "_view_name": "LayoutView",
       "align_content": null,
       "align_items": null,
       "align_self": null,
       "border": null,
       "bottom": null,
       "display": null,
       "flex": null,
       "flex_flow": null,
       "grid_area": null,
       "grid_auto_columns": null,
       "grid_auto_flow": null,
       "grid_auto_rows": null,
       "grid_column": null,
       "grid_gap": null,
       "grid_row": null,
       "grid_template_areas": null,
       "grid_template_columns": null,
       "grid_template_rows": null,
       "height": null,
       "justify_content": null,
       "justify_items": null,
       "left": null,
       "margin": null,
       "max_height": null,
       "max_width": null,
       "min_height": null,
       "min_width": null,
       "object_fit": null,
       "object_position": null,
       "order": null,
       "overflow": null,
       "overflow_x": null,
       "overflow_y": null,
       "padding": null,
       "right": null,
       "top": null,
       "visibility": null,
       "width": null
      }
     },
     "0d3665e8f00a4e9d9158bc9bb330f0f5": {
      "model_module": "@jupyter-widgets/base",
      "model_module_version": "1.2.0",
      "model_name": "LayoutModel",
      "state": {
       "_model_module": "@jupyter-widgets/base",
       "_model_module_version": "1.2.0",
       "_model_name": "LayoutModel",
       "_view_count": null,
       "_view_module": "@jupyter-widgets/base",
       "_view_module_version": "1.2.0",
       "_view_name": "LayoutView",
       "align_content": null,
       "align_items": null,
       "align_self": null,
       "border": null,
       "bottom": null,
       "display": null,
       "flex": null,
       "flex_flow": null,
       "grid_area": null,
       "grid_auto_columns": null,
       "grid_auto_flow": null,
       "grid_auto_rows": null,
       "grid_column": null,
       "grid_gap": null,
       "grid_row": null,
       "grid_template_areas": null,
       "grid_template_columns": null,
       "grid_template_rows": null,
       "height": null,
       "justify_content": null,
       "justify_items": null,
       "left": null,
       "margin": null,
       "max_height": null,
       "max_width": null,
       "min_height": null,
       "min_width": null,
       "object_fit": null,
       "object_position": null,
       "order": null,
       "overflow": null,
       "overflow_x": null,
       "overflow_y": null,
       "padding": null,
       "right": null,
       "top": null,
       "visibility": null,
       "width": null
      }
     },
     "0ee59323e416477d84d3dddb88b59786": {
      "model_module": "@jupyter-widgets/controls",
      "model_module_version": "1.5.0",
      "model_name": "DescriptionStyleModel",
      "state": {
       "_model_module": "@jupyter-widgets/controls",
       "_model_module_version": "1.5.0",
       "_model_name": "DescriptionStyleModel",
       "_view_count": null,
       "_view_module": "@jupyter-widgets/base",
       "_view_module_version": "1.2.0",
       "_view_name": "StyleView",
       "description_width": ""
      }
     },
     "142c407c4ad841c286774e4e0be2d834": {
      "model_module": "@jupyter-widgets/controls",
      "model_module_version": "1.5.0",
      "model_name": "HTMLModel",
      "state": {
       "_dom_classes": [],
       "_model_module": "@jupyter-widgets/controls",
       "_model_module_version": "1.5.0",
       "_model_name": "HTMLModel",
       "_view_count": null,
       "_view_module": "@jupyter-widgets/controls",
       "_view_module_version": "1.5.0",
       "_view_name": "HTMLView",
       "description": "",
       "description_tooltip": null,
       "layout": "IPY_MODEL_be3e332f461142658e8ac1b8124c3ecb",
       "placeholder": "​",
       "style": "IPY_MODEL_f16bf04105a14fbdb273f0d133ee2dc6",
       "value": " 489M/489M [00:11&lt;00:00, 41.2MB/s]"
      }
     },
     "157d40e556c042e09a615d089d3f5b56": {
      "model_module": "@jupyter-widgets/base",
      "model_module_version": "1.2.0",
      "model_name": "LayoutModel",
      "state": {
       "_model_module": "@jupyter-widgets/base",
       "_model_module_version": "1.2.0",
       "_model_name": "LayoutModel",
       "_view_count": null,
       "_view_module": "@jupyter-widgets/base",
       "_view_module_version": "1.2.0",
       "_view_name": "LayoutView",
       "align_content": null,
       "align_items": null,
       "align_self": null,
       "border": null,
       "bottom": null,
       "display": null,
       "flex": null,
       "flex_flow": null,
       "grid_area": null,
       "grid_auto_columns": null,
       "grid_auto_flow": null,
       "grid_auto_rows": null,
       "grid_column": null,
       "grid_gap": null,
       "grid_row": null,
       "grid_template_areas": null,
       "grid_template_columns": null,
       "grid_template_rows": null,
       "height": null,
       "justify_content": null,
       "justify_items": null,
       "left": null,
       "margin": null,
       "max_height": null,
       "max_width": null,
       "min_height": null,
       "min_width": null,
       "object_fit": null,
       "object_position": null,
       "order": null,
       "overflow": null,
       "overflow_x": null,
       "overflow_y": null,
       "padding": null,
       "right": null,
       "top": null,
       "visibility": null,
       "width": null
      }
     },
     "28ace096716849c4badebca548f8531e": {
      "model_module": "@jupyter-widgets/base",
      "model_module_version": "1.2.0",
      "model_name": "LayoutModel",
      "state": {
       "_model_module": "@jupyter-widgets/base",
       "_model_module_version": "1.2.0",
       "_model_name": "LayoutModel",
       "_view_count": null,
       "_view_module": "@jupyter-widgets/base",
       "_view_module_version": "1.2.0",
       "_view_name": "LayoutView",
       "align_content": null,
       "align_items": null,
       "align_self": null,
       "border": null,
       "bottom": null,
       "display": null,
       "flex": null,
       "flex_flow": null,
       "grid_area": null,
       "grid_auto_columns": null,
       "grid_auto_flow": null,
       "grid_auto_rows": null,
       "grid_column": null,
       "grid_gap": null,
       "grid_row": null,
       "grid_template_areas": null,
       "grid_template_columns": null,
       "grid_template_rows": null,
       "height": null,
       "justify_content": null,
       "justify_items": null,
       "left": null,
       "margin": null,
       "max_height": null,
       "max_width": null,
       "min_height": null,
       "min_width": null,
       "object_fit": null,
       "object_position": null,
       "order": null,
       "overflow": null,
       "overflow_x": null,
       "overflow_y": null,
       "padding": null,
       "right": null,
       "top": null,
       "visibility": null,
       "width": null
      }
     },
     "308a7eb65dfa425a88a43d29a67f83e6": {
      "model_module": "@jupyter-widgets/controls",
      "model_module_version": "1.5.0",
      "model_name": "HTMLModel",
      "state": {
       "_dom_classes": [],
       "_model_module": "@jupyter-widgets/controls",
       "_model_module_version": "1.5.0",
       "_model_name": "HTMLModel",
       "_view_count": null,
       "_view_module": "@jupyter-widgets/controls",
       "_view_module_version": "1.5.0",
       "_view_name": "HTMLView",
       "description": "",
       "description_tooltip": null,
       "layout": "IPY_MODEL_92e3aa21be904ec386da477e1a347c20",
       "placeholder": "​",
       "style": "IPY_MODEL_45a8bb533dba4ea98a6d9920ef4e6b7f",
       "value": " 826k/826k [00:00&lt;00:00, 1.59MB/s]"
      }
     },
     "3b62a0df0d0e4f04883f83bfd0c7189f": {
      "model_module": "@jupyter-widgets/controls",
      "model_module_version": "1.5.0",
      "model_name": "DescriptionStyleModel",
      "state": {
       "_model_module": "@jupyter-widgets/controls",
       "_model_module_version": "1.5.0",
       "_model_name": "DescriptionStyleModel",
       "_view_count": null,
       "_view_module": "@jupyter-widgets/base",
       "_view_module_version": "1.2.0",
       "_view_name": "StyleView",
       "description_width": ""
      }
     },
     "3dd22ef117da413f8f89a71d28b8a3a7": {
      "model_module": "@jupyter-widgets/controls",
      "model_module_version": "1.5.0",
      "model_name": "HTMLModel",
      "state": {
       "_dom_classes": [],
       "_model_module": "@jupyter-widgets/controls",
       "_model_module_version": "1.5.0",
       "_model_name": "HTMLModel",
       "_view_count": null,
       "_view_module": "@jupyter-widgets/controls",
       "_view_module_version": "1.5.0",
       "_view_name": "HTMLView",
       "description": "",
       "description_tooltip": null,
       "layout": "IPY_MODEL_a678245032e043148634eaacec93f830",
       "placeholder": "​",
       "style": "IPY_MODEL_eca52ac26cf04d879e6f4785b447da3f",
       "value": "Downloading: 100%"
      }
     },
     "3e372935e52f4d99b268e471c21c9f48": {
      "model_module": "@jupyter-widgets/controls",
      "model_module_version": "1.5.0",
      "model_name": "HTMLModel",
      "state": {
       "_dom_classes": [],
       "_model_module": "@jupyter-widgets/controls",
       "_model_module_version": "1.5.0",
       "_model_name": "HTMLModel",
       "_view_count": null,
       "_view_module": "@jupyter-widgets/controls",
       "_view_module_version": "1.5.0",
       "_view_name": "HTMLView",
       "description": "",
       "description_tooltip": null,
       "layout": "IPY_MODEL_dd6441308205437c813d7422938d2754",
       "placeholder": "​",
       "style": "IPY_MODEL_0ee59323e416477d84d3dddb88b59786",
       "value": " 760/760 [00:00&lt;00:00, 24.9kB/s]"
      }
     },
     "45a8bb533dba4ea98a6d9920ef4e6b7f": {
      "model_module": "@jupyter-widgets/controls",
      "model_module_version": "1.5.0",
      "model_name": "DescriptionStyleModel",
      "state": {
       "_model_module": "@jupyter-widgets/controls",
       "_model_module_version": "1.5.0",
       "_model_name": "DescriptionStyleModel",
       "_view_count": null,
       "_view_module": "@jupyter-widgets/base",
       "_view_module_version": "1.2.0",
       "_view_name": "StyleView",
       "description_width": ""
      }
     },
     "45f3c0369595426e824a29bd552b41ff": {
      "model_module": "@jupyter-widgets/controls",
      "model_module_version": "1.5.0",
      "model_name": "DescriptionStyleModel",
      "state": {
       "_model_module": "@jupyter-widgets/controls",
       "_model_module_version": "1.5.0",
       "_model_name": "DescriptionStyleModel",
       "_view_count": null,
       "_view_module": "@jupyter-widgets/base",
       "_view_module_version": "1.2.0",
       "_view_name": "StyleView",
       "description_width": ""
      }
     },
     "47a261ae6b3946fc925532abf8319974": {
      "model_module": "@jupyter-widgets/controls",
      "model_module_version": "1.5.0",
      "model_name": "FloatProgressModel",
      "state": {
       "_dom_classes": [],
       "_model_module": "@jupyter-widgets/controls",
       "_model_module_version": "1.5.0",
       "_model_name": "FloatProgressModel",
       "_view_count": null,
       "_view_module": "@jupyter-widgets/controls",
       "_view_module_version": "1.5.0",
       "_view_name": "ProgressView",
       "bar_style": "success",
       "description": "",
       "description_tooltip": null,
       "layout": "IPY_MODEL_fc1b0f4b5c6e43eb872d33776a43d4fc",
       "max": 760.0,
       "min": 0.0,
       "orientation": "horizontal",
       "style": "IPY_MODEL_a9b252f617ab42818ac61a3eb8ccca10",
       "value": 760.0
      }
     },
     "4c4d4409a5694752a021393220612ea9": {
      "model_module": "@jupyter-widgets/controls",
      "model_module_version": "1.5.0",
      "model_name": "DescriptionStyleModel",
      "state": {
       "_model_module": "@jupyter-widgets/controls",
       "_model_module_version": "1.5.0",
       "_model_name": "DescriptionStyleModel",
       "_view_count": null,
       "_view_module": "@jupyter-widgets/base",
       "_view_module_version": "1.2.0",
       "_view_name": "StyleView",
       "description_width": ""
      }
     },
     "5475e6cbbcd74b9289339081a33f1394": {
      "model_module": "@jupyter-widgets/base",
      "model_module_version": "1.2.0",
      "model_name": "LayoutModel",
      "state": {
       "_model_module": "@jupyter-widgets/base",
       "_model_module_version": "1.2.0",
       "_model_name": "LayoutModel",
       "_view_count": null,
       "_view_module": "@jupyter-widgets/base",
       "_view_module_version": "1.2.0",
       "_view_name": "LayoutView",
       "align_content": null,
       "align_items": null,
       "align_self": null,
       "border": null,
       "bottom": null,
       "display": null,
       "flex": null,
       "flex_flow": null,
       "grid_area": null,
       "grid_auto_columns": null,
       "grid_auto_flow": null,
       "grid_auto_rows": null,
       "grid_column": null,
       "grid_gap": null,
       "grid_row": null,
       "grid_template_areas": null,
       "grid_template_columns": null,
       "grid_template_rows": null,
       "height": null,
       "justify_content": null,
       "justify_items": null,
       "left": null,
       "margin": null,
       "max_height": null,
       "max_width": null,
       "min_height": null,
       "min_width": null,
       "object_fit": null,
       "object_position": null,
       "order": null,
       "overflow": null,
       "overflow_x": null,
       "overflow_y": null,
       "padding": null,
       "right": null,
       "top": null,
       "visibility": null,
       "width": null
      }
     },
     "54991b10a6fa470aba57e73973f69c0d": {
      "model_module": "@jupyter-widgets/controls",
      "model_module_version": "1.5.0",
      "model_name": "ProgressStyleModel",
      "state": {
       "_model_module": "@jupyter-widgets/controls",
       "_model_module_version": "1.5.0",
       "_model_name": "ProgressStyleModel",
       "_view_count": null,
       "_view_module": "@jupyter-widgets/base",
       "_view_module_version": "1.2.0",
       "_view_name": "StyleView",
       "bar_color": null,
       "description_width": ""
      }
     },
     "54bc68e07e624f5fbef33f797eb644b1": {
      "model_module": "@jupyter-widgets/controls",
      "model_module_version": "1.5.0",
      "model_name": "HBoxModel",
      "state": {
       "_dom_classes": [],
       "_model_module": "@jupyter-widgets/controls",
       "_model_module_version": "1.5.0",
       "_model_name": "HBoxModel",
       "_view_count": null,
       "_view_module": "@jupyter-widgets/controls",
       "_view_module_version": "1.5.0",
       "_view_name": "HBoxView",
       "box_style": "",
       "children": [
        "IPY_MODEL_3dd22ef117da413f8f89a71d28b8a3a7",
        "IPY_MODEL_47a261ae6b3946fc925532abf8319974",
        "IPY_MODEL_3e372935e52f4d99b268e471c21c9f48"
       ],
       "layout": "IPY_MODEL_057f778591914613aa7c40382f816ce9"
      }
     },
     "56de23a3b70e4040b7fe0d530aa43f3f": {
      "model_module": "@jupyter-widgets/controls",
      "model_module_version": "1.5.0",
      "model_name": "ProgressStyleModel",
      "state": {
       "_model_module": "@jupyter-widgets/controls",
       "_model_module_version": "1.5.0",
       "_model_name": "ProgressStyleModel",
       "_view_count": null,
       "_view_module": "@jupyter-widgets/base",
       "_view_module_version": "1.2.0",
       "_view_name": "StyleView",
       "bar_color": null,
       "description_width": ""
      }
     },
     "5aa0fd1647554badb3d53beb0db34bdb": {
      "model_module": "@jupyter-widgets/controls",
      "model_module_version": "1.5.0",
      "model_name": "FloatProgressModel",
      "state": {
       "_dom_classes": [],
       "_model_module": "@jupyter-widgets/controls",
       "_model_module_version": "1.5.0",
       "_model_name": "FloatProgressModel",
       "_view_count": null,
       "_view_module": "@jupyter-widgets/controls",
       "_view_module_version": "1.5.0",
       "_view_name": "ProgressView",
       "bar_style": "success",
       "description": "",
       "description_tooltip": null,
       "layout": "IPY_MODEL_9740a42c987d4317b166c81ef30ef271",
       "max": 1017.0,
       "min": 0.0,
       "orientation": "horizontal",
       "style": "IPY_MODEL_e3b2774f3bcf434c978bdc98d474cd8a",
       "value": 1017.0
      }
     },
     "639c743b2c6e4eddbdc946699d9e9fa7": {
      "model_module": "@jupyter-widgets/base",
      "model_module_version": "1.2.0",
      "model_name": "LayoutModel",
      "state": {
       "_model_module": "@jupyter-widgets/base",
       "_model_module_version": "1.2.0",
       "_model_name": "LayoutModel",
       "_view_count": null,
       "_view_module": "@jupyter-widgets/base",
       "_view_module_version": "1.2.0",
       "_view_name": "LayoutView",
       "align_content": null,
       "align_items": null,
       "align_self": null,
       "border": null,
       "bottom": null,
       "display": null,
       "flex": null,
       "flex_flow": null,
       "grid_area": null,
       "grid_auto_columns": null,
       "grid_auto_flow": null,
       "grid_auto_rows": null,
       "grid_column": null,
       "grid_gap": null,
       "grid_row": null,
       "grid_template_areas": null,
       "grid_template_columns": null,
       "grid_template_rows": null,
       "height": null,
       "justify_content": null,
       "justify_items": null,
       "left": null,
       "margin": null,
       "max_height": null,
       "max_width": null,
       "min_height": null,
       "min_width": null,
       "object_fit": null,
       "object_position": null,
       "order": null,
       "overflow": null,
       "overflow_x": null,
       "overflow_y": null,
       "padding": null,
       "right": null,
       "top": null,
       "visibility": null,
       "width": null
      }
     },
     "64d3a3832f304c088a7a807c25648002": {
      "model_module": "@jupyter-widgets/base",
      "model_module_version": "1.2.0",
      "model_name": "LayoutModel",
      "state": {
       "_model_module": "@jupyter-widgets/base",
       "_model_module_version": "1.2.0",
       "_model_name": "LayoutModel",
       "_view_count": null,
       "_view_module": "@jupyter-widgets/base",
       "_view_module_version": "1.2.0",
       "_view_name": "LayoutView",
       "align_content": null,
       "align_items": null,
       "align_self": null,
       "border": null,
       "bottom": null,
       "display": null,
       "flex": null,
       "flex_flow": null,
       "grid_area": null,
       "grid_auto_columns": null,
       "grid_auto_flow": null,
       "grid_auto_rows": null,
       "grid_column": null,
       "grid_gap": null,
       "grid_row": null,
       "grid_template_areas": null,
       "grid_template_columns": null,
       "grid_template_rows": null,
       "height": null,
       "justify_content": null,
       "justify_items": null,
       "left": null,
       "margin": null,
       "max_height": null,
       "max_width": null,
       "min_height": null,
       "min_width": null,
       "object_fit": null,
       "object_position": null,
       "order": null,
       "overflow": null,
       "overflow_x": null,
       "overflow_y": null,
       "padding": null,
       "right": null,
       "top": null,
       "visibility": null,
       "width": null
      }
     },
     "69398142fb3f48ef955a2d624af81e26": {
      "model_module": "@jupyter-widgets/base",
      "model_module_version": "1.2.0",
      "model_name": "LayoutModel",
      "state": {
       "_model_module": "@jupyter-widgets/base",
       "_model_module_version": "1.2.0",
       "_model_name": "LayoutModel",
       "_view_count": null,
       "_view_module": "@jupyter-widgets/base",
       "_view_module_version": "1.2.0",
       "_view_name": "LayoutView",
       "align_content": null,
       "align_items": null,
       "align_self": null,
       "border": null,
       "bottom": null,
       "display": null,
       "flex": null,
       "flex_flow": null,
       "grid_area": null,
       "grid_auto_columns": null,
       "grid_auto_flow": null,
       "grid_auto_rows": null,
       "grid_column": null,
       "grid_gap": null,
       "grid_row": null,
       "grid_template_areas": null,
       "grid_template_columns": null,
       "grid_template_rows": null,
       "height": null,
       "justify_content": null,
       "justify_items": null,
       "left": null,
       "margin": null,
       "max_height": null,
       "max_width": null,
       "min_height": null,
       "min_width": null,
       "object_fit": null,
       "object_position": null,
       "order": null,
       "overflow": null,
       "overflow_x": null,
       "overflow_y": null,
       "padding": null,
       "right": null,
       "top": null,
       "visibility": null,
       "width": null
      }
     },
     "69c8bbaff1d641938d9ad1cb5529f2f1": {
      "model_module": "@jupyter-widgets/controls",
      "model_module_version": "1.5.0",
      "model_name": "HTMLModel",
      "state": {
       "_dom_classes": [],
       "_model_module": "@jupyter-widgets/controls",
       "_model_module_version": "1.5.0",
       "_model_name": "HTMLModel",
       "_view_count": null,
       "_view_module": "@jupyter-widgets/controls",
       "_view_module_version": "1.5.0",
       "_view_name": "HTMLView",
       "description": "",
       "description_tooltip": null,
       "layout": "IPY_MODEL_0d3665e8f00a4e9d9158bc9bb330f0f5",
       "placeholder": "​",
       "style": "IPY_MODEL_4c4d4409a5694752a021393220612ea9",
       "value": " 0.99k/0.99k [00:00&lt;00:00, 38.0kB/s]"
      }
     },
     "73d9743c5f334359ad6a9ece77409173": {
      "model_module": "@jupyter-widgets/controls",
      "model_module_version": "1.5.0",
      "model_name": "HTMLModel",
      "state": {
       "_dom_classes": [],
       "_model_module": "@jupyter-widgets/controls",
       "_model_module_version": "1.5.0",
       "_model_name": "HTMLModel",
       "_view_count": null,
       "_view_module": "@jupyter-widgets/controls",
       "_view_module_version": "1.5.0",
       "_view_name": "HTMLView",
       "description": "",
       "description_tooltip": null,
       "layout": "IPY_MODEL_639c743b2c6e4eddbdc946699d9e9fa7",
       "placeholder": "​",
       "style": "IPY_MODEL_a6635cd5470240ac937368126a2f488e",
       "value": "Downloading: 100%"
      }
     },
     "7473bf18bf72437eb7d2db19a4f0ac42": {
      "model_module": "@jupyter-widgets/controls",
      "model_module_version": "1.5.0",
      "model_name": "FloatProgressModel",
      "state": {
       "_dom_classes": [],
       "_model_module": "@jupyter-widgets/controls",
       "_model_module_version": "1.5.0",
       "_model_name": "FloatProgressModel",
       "_view_count": null,
       "_view_module": "@jupyter-widgets/controls",
       "_view_module_version": "1.5.0",
       "_view_name": "ProgressView",
       "bar_style": "success",
       "description": "",
       "description_tooltip": null,
       "layout": "IPY_MODEL_0aeedc066d9149d087e3b600e5b7ad94",
       "max": 775.0,
       "min": 0.0,
       "orientation": "horizontal",
       "style": "IPY_MODEL_7b6a5fe563eb401b9babfcc41185e2b0",
       "value": 775.0
      }
     },
     "77b0173771ed441c9ea4b1cdeefe0071": {
      "model_module": "@jupyter-widgets/base",
      "model_module_version": "1.2.0",
      "model_name": "LayoutModel",
      "state": {
       "_model_module": "@jupyter-widgets/base",
       "_model_module_version": "1.2.0",
       "_model_name": "LayoutModel",
       "_view_count": null,
       "_view_module": "@jupyter-widgets/base",
       "_view_module_version": "1.2.0",
       "_view_name": "LayoutView",
       "align_content": null,
       "align_items": null,
       "align_self": null,
       "border": null,
       "bottom": null,
       "display": null,
       "flex": null,
       "flex_flow": null,
       "grid_area": null,
       "grid_auto_columns": null,
       "grid_auto_flow": null,
       "grid_auto_rows": null,
       "grid_column": null,
       "grid_gap": null,
       "grid_row": null,
       "grid_template_areas": null,
       "grid_template_columns": null,
       "grid_template_rows": null,
       "height": null,
       "justify_content": null,
       "justify_items": null,
       "left": null,
       "margin": null,
       "max_height": null,
       "max_width": null,
       "min_height": null,
       "min_width": null,
       "object_fit": null,
       "object_position": null,
       "order": null,
       "overflow": null,
       "overflow_x": null,
       "overflow_y": null,
       "padding": null,
       "right": null,
       "top": null,
       "visibility": null,
       "width": null
      }
     },
     "7b6a5fe563eb401b9babfcc41185e2b0": {
      "model_module": "@jupyter-widgets/controls",
      "model_module_version": "1.5.0",
      "model_name": "ProgressStyleModel",
      "state": {
       "_model_module": "@jupyter-widgets/controls",
       "_model_module_version": "1.5.0",
       "_model_name": "ProgressStyleModel",
       "_view_count": null,
       "_view_module": "@jupyter-widgets/base",
       "_view_module_version": "1.2.0",
       "_view_name": "StyleView",
       "bar_color": null,
       "description_width": ""
      }
     },
     "7efb3f0acf3442498bc2ec8e98d25293": {
      "model_module": "@jupyter-widgets/base",
      "model_module_version": "1.2.0",
      "model_name": "LayoutModel",
      "state": {
       "_model_module": "@jupyter-widgets/base",
       "_model_module_version": "1.2.0",
       "_model_name": "LayoutModel",
       "_view_count": null,
       "_view_module": "@jupyter-widgets/base",
       "_view_module_version": "1.2.0",
       "_view_name": "LayoutView",
       "align_content": null,
       "align_items": null,
       "align_self": null,
       "border": null,
       "bottom": null,
       "display": null,
       "flex": null,
       "flex_flow": null,
       "grid_area": null,
       "grid_auto_columns": null,
       "grid_auto_flow": null,
       "grid_auto_rows": null,
       "grid_column": null,
       "grid_gap": null,
       "grid_row": null,
       "grid_template_areas": null,
       "grid_template_columns": null,
       "grid_template_rows": null,
       "height": null,
       "justify_content": null,
       "justify_items": null,
       "left": null,
       "margin": null,
       "max_height": null,
       "max_width": null,
       "min_height": null,
       "min_width": null,
       "object_fit": null,
       "object_position": null,
       "order": null,
       "overflow": null,
       "overflow_x": null,
       "overflow_y": null,
       "padding": null,
       "right": null,
       "top": null,
       "visibility": null,
       "width": null
      }
     },
     "8cf5dbef30da478ab453077a49ede86f": {
      "model_module": "@jupyter-widgets/base",
      "model_module_version": "1.2.0",
      "model_name": "LayoutModel",
      "state": {
       "_model_module": "@jupyter-widgets/base",
       "_model_module_version": "1.2.0",
       "_model_name": "LayoutModel",
       "_view_count": null,
       "_view_module": "@jupyter-widgets/base",
       "_view_module_version": "1.2.0",
       "_view_name": "LayoutView",
       "align_content": null,
       "align_items": null,
       "align_self": null,
       "border": null,
       "bottom": null,
       "display": null,
       "flex": null,
       "flex_flow": null,
       "grid_area": null,
       "grid_auto_columns": null,
       "grid_auto_flow": null,
       "grid_auto_rows": null,
       "grid_column": null,
       "grid_gap": null,
       "grid_row": null,
       "grid_template_areas": null,
       "grid_template_columns": null,
       "grid_template_rows": null,
       "height": null,
       "justify_content": null,
       "justify_items": null,
       "left": null,
       "margin": null,
       "max_height": null,
       "max_width": null,
       "min_height": null,
       "min_width": null,
       "object_fit": null,
       "object_position": null,
       "order": null,
       "overflow": null,
       "overflow_x": null,
       "overflow_y": null,
       "padding": null,
       "right": null,
       "top": null,
       "visibility": null,
       "width": null
      }
     },
     "92e3aa21be904ec386da477e1a347c20": {
      "model_module": "@jupyter-widgets/base",
      "model_module_version": "1.2.0",
      "model_name": "LayoutModel",
      "state": {
       "_model_module": "@jupyter-widgets/base",
       "_model_module_version": "1.2.0",
       "_model_name": "LayoutModel",
       "_view_count": null,
       "_view_module": "@jupyter-widgets/base",
       "_view_module_version": "1.2.0",
       "_view_name": "LayoutView",
       "align_content": null,
       "align_items": null,
       "align_self": null,
       "border": null,
       "bottom": null,
       "display": null,
       "flex": null,
       "flex_flow": null,
       "grid_area": null,
       "grid_auto_columns": null,
       "grid_auto_flow": null,
       "grid_auto_rows": null,
       "grid_column": null,
       "grid_gap": null,
       "grid_row": null,
       "grid_template_areas": null,
       "grid_template_columns": null,
       "grid_template_rows": null,
       "height": null,
       "justify_content": null,
       "justify_items": null,
       "left": null,
       "margin": null,
       "max_height": null,
       "max_width": null,
       "min_height": null,
       "min_width": null,
       "object_fit": null,
       "object_position": null,
       "order": null,
       "overflow": null,
       "overflow_x": null,
       "overflow_y": null,
       "padding": null,
       "right": null,
       "top": null,
       "visibility": null,
       "width": null
      }
     },
     "96e5b4df09974a7bb505d41840865854": {
      "model_module": "@jupyter-widgets/controls",
      "model_module_version": "1.5.0",
      "model_name": "HTMLModel",
      "state": {
       "_dom_classes": [],
       "_model_module": "@jupyter-widgets/controls",
       "_model_module_version": "1.5.0",
       "_model_name": "HTMLModel",
       "_view_count": null,
       "_view_module": "@jupyter-widgets/controls",
       "_view_module_version": "1.5.0",
       "_view_name": "HTMLView",
       "description": "",
       "description_tooltip": null,
       "layout": "IPY_MODEL_bff837b5d1024d1094382e38476ff4d0",
       "placeholder": "​",
       "style": "IPY_MODEL_a42be22524494e03a03bb64f28a8190a",
       "value": "Downloading: 100%"
      }
     },
     "9740a42c987d4317b166c81ef30ef271": {
      "model_module": "@jupyter-widgets/base",
      "model_module_version": "1.2.0",
      "model_name": "LayoutModel",
      "state": {
       "_model_module": "@jupyter-widgets/base",
       "_model_module_version": "1.2.0",
       "_model_name": "LayoutModel",
       "_view_count": null,
       "_view_module": "@jupyter-widgets/base",
       "_view_module_version": "1.2.0",
       "_view_name": "LayoutView",
       "align_content": null,
       "align_items": null,
       "align_self": null,
       "border": null,
       "bottom": null,
       "display": null,
       "flex": null,
       "flex_flow": null,
       "grid_area": null,
       "grid_auto_columns": null,
       "grid_auto_flow": null,
       "grid_auto_rows": null,
       "grid_column": null,
       "grid_gap": null,
       "grid_row": null,
       "grid_template_areas": null,
       "grid_template_columns": null,
       "grid_template_rows": null,
       "height": null,
       "justify_content": null,
       "justify_items": null,
       "left": null,
       "margin": null,
       "max_height": null,
       "max_width": null,
       "min_height": null,
       "min_width": null,
       "object_fit": null,
       "object_position": null,
       "order": null,
       "overflow": null,
       "overflow_x": null,
       "overflow_y": null,
       "padding": null,
       "right": null,
       "top": null,
       "visibility": null,
       "width": null
      }
     },
     "a030b0653427459e9f191a74fd5a2562": {
      "model_module": "@jupyter-widgets/controls",
      "model_module_version": "1.5.0",
      "model_name": "HBoxModel",
      "state": {
       "_dom_classes": [],
       "_model_module": "@jupyter-widgets/controls",
       "_model_module_version": "1.5.0",
       "_model_name": "HBoxModel",
       "_view_count": null,
       "_view_module": "@jupyter-widgets/controls",
       "_view_module_version": "1.5.0",
       "_view_name": "HBoxView",
       "box_style": "",
       "children": [
        "IPY_MODEL_093c4d787a0147208d112b40391e2a79",
        "IPY_MODEL_003c696ca1884a8d86c4b796dc6c4757",
        "IPY_MODEL_142c407c4ad841c286774e4e0be2d834"
       ],
       "layout": "IPY_MODEL_28ace096716849c4badebca548f8531e"
      }
     },
     "a42be22524494e03a03bb64f28a8190a": {
      "model_module": "@jupyter-widgets/controls",
      "model_module_version": "1.5.0",
      "model_name": "DescriptionStyleModel",
      "state": {
       "_model_module": "@jupyter-widgets/controls",
       "_model_module_version": "1.5.0",
       "_model_name": "DescriptionStyleModel",
       "_view_count": null,
       "_view_module": "@jupyter-widgets/base",
       "_view_module_version": "1.2.0",
       "_view_name": "StyleView",
       "description_width": ""
      }
     },
     "a6635cd5470240ac937368126a2f488e": {
      "model_module": "@jupyter-widgets/controls",
      "model_module_version": "1.5.0",
      "model_name": "DescriptionStyleModel",
      "state": {
       "_model_module": "@jupyter-widgets/controls",
       "_model_module_version": "1.5.0",
       "_model_name": "DescriptionStyleModel",
       "_view_count": null,
       "_view_module": "@jupyter-widgets/base",
       "_view_module_version": "1.2.0",
       "_view_name": "StyleView",
       "description_width": ""
      }
     },
     "a678245032e043148634eaacec93f830": {
      "model_module": "@jupyter-widgets/base",
      "model_module_version": "1.2.0",
      "model_name": "LayoutModel",
      "state": {
       "_model_module": "@jupyter-widgets/base",
       "_model_module_version": "1.2.0",
       "_model_name": "LayoutModel",
       "_view_count": null,
       "_view_module": "@jupyter-widgets/base",
       "_view_module_version": "1.2.0",
       "_view_name": "LayoutView",
       "align_content": null,
       "align_items": null,
       "align_self": null,
       "border": null,
       "bottom": null,
       "display": null,
       "flex": null,
       "flex_flow": null,
       "grid_area": null,
       "grid_auto_columns": null,
       "grid_auto_flow": null,
       "grid_auto_rows": null,
       "grid_column": null,
       "grid_gap": null,
       "grid_row": null,
       "grid_template_areas": null,
       "grid_template_columns": null,
       "grid_template_rows": null,
       "height": null,
       "justify_content": null,
       "justify_items": null,
       "left": null,
       "margin": null,
       "max_height": null,
       "max_width": null,
       "min_height": null,
       "min_width": null,
       "object_fit": null,
       "object_position": null,
       "order": null,
       "overflow": null,
       "overflow_x": null,
       "overflow_y": null,
       "padding": null,
       "right": null,
       "top": null,
       "visibility": null,
       "width": null
      }
     },
     "a69f4baaf4254e1296462c6c2015b1fd": {
      "model_module": "@jupyter-widgets/controls",
      "model_module_version": "1.5.0",
      "model_name": "HTMLModel",
      "state": {
       "_dom_classes": [],
       "_model_module": "@jupyter-widgets/controls",
       "_model_module_version": "1.5.0",
       "_model_name": "HTMLModel",
       "_view_count": null,
       "_view_module": "@jupyter-widgets/controls",
       "_view_module_version": "1.5.0",
       "_view_name": "HTMLView",
       "description": "",
       "description_tooltip": null,
       "layout": "IPY_MODEL_7efb3f0acf3442498bc2ec8e98d25293",
       "placeholder": "​",
       "style": "IPY_MODEL_fae8f12e6ff64a17b5ed0296c5fc2879",
       "value": " 775/775 [00:00&lt;00:00, 16.5kB/s]"
      }
     },
     "a9b252f617ab42818ac61a3eb8ccca10": {
      "model_module": "@jupyter-widgets/controls",
      "model_module_version": "1.5.0",
      "model_name": "ProgressStyleModel",
      "state": {
       "_model_module": "@jupyter-widgets/controls",
       "_model_module_version": "1.5.0",
       "_model_name": "ProgressStyleModel",
       "_view_count": null,
       "_view_module": "@jupyter-widgets/base",
       "_view_module_version": "1.2.0",
       "_view_name": "StyleView",
       "bar_color": null,
       "description_width": ""
      }
     },
     "b5ae6030a24c4e2cb6a56a7be190c24f": {
      "model_module": "@jupyter-widgets/controls",
      "model_module_version": "1.5.0",
      "model_name": "HBoxModel",
      "state": {
       "_dom_classes": [],
       "_model_module": "@jupyter-widgets/controls",
       "_model_module_version": "1.5.0",
       "_model_name": "HBoxModel",
       "_view_count": null,
       "_view_module": "@jupyter-widgets/controls",
       "_view_module_version": "1.5.0",
       "_view_name": "HBoxView",
       "box_style": "",
       "children": [
        "IPY_MODEL_00fb8bdf264f40f099724d44e05dbb23",
        "IPY_MODEL_07b2fa9b3b7b4ef1a96ee08555c7c4fb",
        "IPY_MODEL_308a7eb65dfa425a88a43d29a67f83e6"
       ],
       "layout": "IPY_MODEL_5475e6cbbcd74b9289339081a33f1394"
      }
     },
     "be3e332f461142658e8ac1b8124c3ecb": {
      "model_module": "@jupyter-widgets/base",
      "model_module_version": "1.2.0",
      "model_name": "LayoutModel",
      "state": {
       "_model_module": "@jupyter-widgets/base",
       "_model_module_version": "1.2.0",
       "_model_name": "LayoutModel",
       "_view_count": null,
       "_view_module": "@jupyter-widgets/base",
       "_view_module_version": "1.2.0",
       "_view_name": "LayoutView",
       "align_content": null,
       "align_items": null,
       "align_self": null,
       "border": null,
       "bottom": null,
       "display": null,
       "flex": null,
       "flex_flow": null,
       "grid_area": null,
       "grid_auto_columns": null,
       "grid_auto_flow": null,
       "grid_auto_rows": null,
       "grid_column": null,
       "grid_gap": null,
       "grid_row": null,
       "grid_template_areas": null,
       "grid_template_columns": null,
       "grid_template_rows": null,
       "height": null,
       "justify_content": null,
       "justify_items": null,
       "left": null,
       "margin": null,
       "max_height": null,
       "max_width": null,
       "min_height": null,
       "min_width": null,
       "object_fit": null,
       "object_position": null,
       "order": null,
       "overflow": null,
       "overflow_x": null,
       "overflow_y": null,
       "padding": null,
       "right": null,
       "top": null,
       "visibility": null,
       "width": null
      }
     },
     "bff837b5d1024d1094382e38476ff4d0": {
      "model_module": "@jupyter-widgets/base",
      "model_module_version": "1.2.0",
      "model_name": "LayoutModel",
      "state": {
       "_model_module": "@jupyter-widgets/base",
       "_model_module_version": "1.2.0",
       "_model_name": "LayoutModel",
       "_view_count": null,
       "_view_module": "@jupyter-widgets/base",
       "_view_module_version": "1.2.0",
       "_view_name": "LayoutView",
       "align_content": null,
       "align_items": null,
       "align_self": null,
       "border": null,
       "bottom": null,
       "display": null,
       "flex": null,
       "flex_flow": null,
       "grid_area": null,
       "grid_auto_columns": null,
       "grid_auto_flow": null,
       "grid_auto_rows": null,
       "grid_column": null,
       "grid_gap": null,
       "grid_row": null,
       "grid_template_areas": null,
       "grid_template_columns": null,
       "grid_template_rows": null,
       "height": null,
       "justify_content": null,
       "justify_items": null,
       "left": null,
       "margin": null,
       "max_height": null,
       "max_width": null,
       "min_height": null,
       "min_width": null,
       "object_fit": null,
       "object_position": null,
       "order": null,
       "overflow": null,
       "overflow_x": null,
       "overflow_y": null,
       "padding": null,
       "right": null,
       "top": null,
       "visibility": null,
       "width": null
      }
     },
     "daad2726744c48ab9d9976a06701fb19": {
      "model_module": "@jupyter-widgets/controls",
      "model_module_version": "1.5.0",
      "model_name": "HBoxModel",
      "state": {
       "_dom_classes": [],
       "_model_module": "@jupyter-widgets/controls",
       "_model_module_version": "1.5.0",
       "_model_name": "HBoxModel",
       "_view_count": null,
       "_view_module": "@jupyter-widgets/controls",
       "_view_module_version": "1.5.0",
       "_view_name": "HBoxView",
       "box_style": "",
       "children": [
        "IPY_MODEL_96e5b4df09974a7bb505d41840865854",
        "IPY_MODEL_5aa0fd1647554badb3d53beb0db34bdb",
        "IPY_MODEL_69c8bbaff1d641938d9ad1cb5529f2f1"
       ],
       "layout": "IPY_MODEL_8cf5dbef30da478ab453077a49ede86f"
      }
     },
     "dd6441308205437c813d7422938d2754": {
      "model_module": "@jupyter-widgets/base",
      "model_module_version": "1.2.0",
      "model_name": "LayoutModel",
      "state": {
       "_model_module": "@jupyter-widgets/base",
       "_model_module_version": "1.2.0",
       "_model_name": "LayoutModel",
       "_view_count": null,
       "_view_module": "@jupyter-widgets/base",
       "_view_module_version": "1.2.0",
       "_view_name": "LayoutView",
       "align_content": null,
       "align_items": null,
       "align_self": null,
       "border": null,
       "bottom": null,
       "display": null,
       "flex": null,
       "flex_flow": null,
       "grid_area": null,
       "grid_auto_columns": null,
       "grid_auto_flow": null,
       "grid_auto_rows": null,
       "grid_column": null,
       "grid_gap": null,
       "grid_row": null,
       "grid_template_areas": null,
       "grid_template_columns": null,
       "grid_template_rows": null,
       "height": null,
       "justify_content": null,
       "justify_items": null,
       "left": null,
       "margin": null,
       "max_height": null,
       "max_width": null,
       "min_height": null,
       "min_width": null,
       "object_fit": null,
       "object_position": null,
       "order": null,
       "overflow": null,
       "overflow_x": null,
       "overflow_y": null,
       "padding": null,
       "right": null,
       "top": null,
       "visibility": null,
       "width": null
      }
     },
     "ddd391b4c80d47f087c8666a4e5e4e2e": {
      "model_module": "@jupyter-widgets/controls",
      "model_module_version": "1.5.0",
      "model_name": "HBoxModel",
      "state": {
       "_dom_classes": [],
       "_model_module": "@jupyter-widgets/controls",
       "_model_module_version": "1.5.0",
       "_model_name": "HBoxModel",
       "_view_count": null,
       "_view_module": "@jupyter-widgets/controls",
       "_view_module_version": "1.5.0",
       "_view_name": "HBoxView",
       "box_style": "",
       "children": [
        "IPY_MODEL_73d9743c5f334359ad6a9ece77409173",
        "IPY_MODEL_7473bf18bf72437eb7d2db19a4f0ac42",
        "IPY_MODEL_a69f4baaf4254e1296462c6c2015b1fd"
       ],
       "layout": "IPY_MODEL_77b0173771ed441c9ea4b1cdeefe0071"
      }
     },
     "e3b2774f3bcf434c978bdc98d474cd8a": {
      "model_module": "@jupyter-widgets/controls",
      "model_module_version": "1.5.0",
      "model_name": "ProgressStyleModel",
      "state": {
       "_model_module": "@jupyter-widgets/controls",
       "_model_module_version": "1.5.0",
       "_model_name": "ProgressStyleModel",
       "_view_count": null,
       "_view_module": "@jupyter-widgets/base",
       "_view_module_version": "1.2.0",
       "_view_name": "StyleView",
       "bar_color": null,
       "description_width": ""
      }
     },
     "eca52ac26cf04d879e6f4785b447da3f": {
      "model_module": "@jupyter-widgets/controls",
      "model_module_version": "1.5.0",
      "model_name": "DescriptionStyleModel",
      "state": {
       "_model_module": "@jupyter-widgets/controls",
       "_model_module_version": "1.5.0",
       "_model_name": "DescriptionStyleModel",
       "_view_count": null,
       "_view_module": "@jupyter-widgets/base",
       "_view_module_version": "1.2.0",
       "_view_name": "StyleView",
       "description_width": ""
      }
     },
     "f16bf04105a14fbdb273f0d133ee2dc6": {
      "model_module": "@jupyter-widgets/controls",
      "model_module_version": "1.5.0",
      "model_name": "DescriptionStyleModel",
      "state": {
       "_model_module": "@jupyter-widgets/controls",
       "_model_module_version": "1.5.0",
       "_model_name": "DescriptionStyleModel",
       "_view_count": null,
       "_view_module": "@jupyter-widgets/base",
       "_view_module_version": "1.2.0",
       "_view_name": "StyleView",
       "description_width": ""
      }
     },
     "fae8f12e6ff64a17b5ed0296c5fc2879": {
      "model_module": "@jupyter-widgets/controls",
      "model_module_version": "1.5.0",
      "model_name": "DescriptionStyleModel",
      "state": {
       "_model_module": "@jupyter-widgets/controls",
       "_model_module_version": "1.5.0",
       "_model_name": "DescriptionStyleModel",
       "_view_count": null,
       "_view_module": "@jupyter-widgets/base",
       "_view_module_version": "1.2.0",
       "_view_name": "StyleView",
       "description_width": ""
      }
     },
     "fc1b0f4b5c6e43eb872d33776a43d4fc": {
      "model_module": "@jupyter-widgets/base",
      "model_module_version": "1.2.0",
      "model_name": "LayoutModel",
      "state": {
       "_model_module": "@jupyter-widgets/base",
       "_model_module_version": "1.2.0",
       "_model_name": "LayoutModel",
       "_view_count": null,
       "_view_module": "@jupyter-widgets/base",
       "_view_module_version": "1.2.0",
       "_view_name": "LayoutView",
       "align_content": null,
       "align_items": null,
       "align_self": null,
       "border": null,
       "bottom": null,
       "display": null,
       "flex": null,
       "flex_flow": null,
       "grid_area": null,
       "grid_auto_columns": null,
       "grid_auto_flow": null,
       "grid_auto_rows": null,
       "grid_column": null,
       "grid_gap": null,
       "grid_row": null,
       "grid_template_areas": null,
       "grid_template_columns": null,
       "grid_template_rows": null,
       "height": null,
       "justify_content": null,
       "justify_items": null,
       "left": null,
       "margin": null,
       "max_height": null,
       "max_width": null,
       "min_height": null,
       "min_width": null,
       "object_fit": null,
       "object_position": null,
       "order": null,
       "overflow": null,
       "overflow_x": null,
       "overflow_y": null,
       "padding": null,
       "right": null,
       "top": null,
       "visibility": null,
       "width": null
      }
     }
    },
    "version_major": 2,
    "version_minor": 0
   }
  }
 },
 "nbformat": 4,
 "nbformat_minor": 5
}
